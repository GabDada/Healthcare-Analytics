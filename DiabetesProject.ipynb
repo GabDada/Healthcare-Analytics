{
  "nbformat": 4,
  "nbformat_minor": 0,
  "metadata": {
    "colab": {
      "provenance": [],
      "toc_visible": true,
      "include_colab_link": true
    },
    "kernelspec": {
      "name": "python3",
      "display_name": "Python 3"
    },
    "language_info": {
      "name": "python"
    }
  },
  "cells": [
    {
      "cell_type": "markdown",
      "metadata": {
        "id": "view-in-github",
        "colab_type": "text"
      },
      "source": [
        "<a href=\"https://colab.research.google.com/github/GabDada/Healthcare-Analytics/blob/main/DiabetesProject.ipynb\" target=\"_parent\"><img src=\"https://colab.research.google.com/assets/colab-badge.svg\" alt=\"Open In Colab\"/></a>"
      ]
    },
    {
      "cell_type": "markdown",
      "source": [
        "# Step 0 - Getting Started"
      ],
      "metadata": {
        "id": "jyMgDnBZ30eg"
      }
    },
    {
      "cell_type": "markdown",
      "source": [
        "**Introduction**:\n",
        "\n",
        "In today's growing diabetes population, continuous glucose monitoring offers the potential to change lives and bring fresh insight into how patients manage their conditions. However a number challenges including affordability, awareness and copay limitations still plague widespread utlization. The market is highly competitive as such it has become imperative for Manufacturers to continue growing adoption, reduce churn and compete favourably.  \n",
        "\n",
        "\n",
        "This project explores the application of data science techniques, specifically segmentation and clustering, to achieve meaningful patient segmentation while uncovering the charcteristics of patients who are less likely to be active after 12 months for different reasons.\n",
        "\n",
        "Applying segmentation and clustering analysis to patient data, we identified 8 distinct patient groups, their peculiarities, possible reasons for churn, and discuss necessary downstream triggers and market access interventions to grow utilization.\n",
        "\n",
        "\n",
        "\n",
        "**Methodology:**\n",
        "\n",
        "*1*: Exploratory Data Analysis: For prelimary insights into the AS-IS business situation.\n",
        "\n",
        "*2*: S-A-UT Segmentation Framework: Design and Implementation of a state-of-the-art framework (Severity-Affordability- Utilization) for patient segmentation based on market access domain knowledge.  \n",
        "\n",
        "*3*: Hypothesis Testing: ANOVA to further sense-check results from our Framework.    \n",
        "\n",
        "*4*: K-Means Clustering: Implemented K-Means clustering analysis to further validate patient segments from the SAUT framewrok.\n",
        "\n",
        "*5*: Results & Discussions: Business questions are addressed and possible interventions discussed.  \n",
        "\n",
        "\n",
        "\n"
      ],
      "metadata": {
        "id": "R457_xH_357O"
      }
    },
    {
      "cell_type": "code",
      "source": [
        "#@title Import Libraries\n",
        "\n",
        "#Built-in Libraries\n",
        "import random\n",
        "import math\n",
        "\n",
        "#Third-party libraries\n",
        "import seaborn as sns\n",
        "import pandas as pd\n",
        "import numpy as np\n",
        "import scipy.stats as stats\n",
        "import statsmodels.api as sm\n",
        "import matplotlib.pyplot as plt\n",
        "import plotly.subplots as sp\n",
        "import plotly.graph_objects as go\n",
        "#import matplotlib.dates as mdates\n",
        "#from matplotlib.ticker import MultipleLocator\n",
        "#from statsmodels.stats.power import TTestIndPower, tt_ind_solve_power\n",
        "#from statsmodels.stats.weightstats import ttest_ind\n",
        "#from statsmodels.stats.proportion import proportions_chisquare, confint_proportions_2indep\n",
        "\n",
        "from google.colab import drive\n",
        "drive.mount(\"/content/drive/\", force_remount=True)\n",
        "\n",
        "#Disable Warnings\n",
        "from warnings import filterwarnings\n",
        "filterwarnings ('ignore')\n",
        "\n",
        "#Set Seed for np random\n"
      ],
      "metadata": {
        "colab": {
          "base_uri": "https://localhost:8080/",
          "height": 0
        },
        "id": "hE1tMqhY4BZO",
        "outputId": "3727c0d6-8895-45fe-cdae-48f2c9aa156e"
      },
      "execution_count": 1,
      "outputs": [
        {
          "output_type": "stream",
          "name": "stdout",
          "text": [
            "Mounted at /content/drive/\n"
          ]
        }
      ]
    },
    {
      "cell_type": "code",
      "source": [
        "#@title Load Data\n",
        "\n",
        "#Set data path and load data\n",
        "\n",
        "data_path = '/content/drive/MyDrive/Abbot/Data/Abbotdata.xlsx'\n",
        "\n",
        "\n",
        "# Load the dataset from the Excel file\n",
        "dataset = pd.read_excel(data_path, header=0)\n",
        "print('Data Imported')"
      ],
      "metadata": {
        "colab": {
          "base_uri": "https://localhost:8080/",
          "height": 0
        },
        "id": "ssSO_0pN5G0N",
        "outputId": "979ef5a3-d300-447d-bc6f-b915b5ecda92"
      },
      "execution_count": 2,
      "outputs": [
        {
          "output_type": "stream",
          "name": "stdout",
          "text": [
            "Data Imported\n"
          ]
        }
      ]
    },
    {
      "cell_type": "code",
      "source": [
        "print(dataset.info())"
      ],
      "metadata": {
        "colab": {
          "base_uri": "https://localhost:8080/",
          "height": 0
        },
        "id": "4OPj9qarYdSj",
        "outputId": "1638b33b-e513-4d9d-f52b-26b065e595ca"
      },
      "execution_count": 3,
      "outputs": [
        {
          "output_type": "stream",
          "name": "stdout",
          "text": [
            "<class 'pandas.core.frame.DataFrame'>\n",
            "RangeIndex: 52818 entries, 0 to 52817\n",
            "Data columns (total 10 columns):\n",
            " #   Column               Non-Null Count  Dtype \n",
            "---  ------               --------------  ----- \n",
            " 0   Patient_ID           52818 non-null  int64 \n",
            " 1   Diabetes_Type        52818 non-null  object\n",
            " 2   Patient_Segment      52818 non-null  object\n",
            " 3   Payer_Group          52818 non-null  object\n",
            " 4   ADC_Payer_Name       52818 non-null  object\n",
            " 5   1M_OOP_Bucket        52818 non-null  object\n",
            " 6   HCP_Specialty_Group  52818 non-null  object\n",
            " 7   HCP_State            52818 non-null  object\n",
            " 8   NBRx_Product         52818 non-null  object\n",
            " 9   Active_Flag          52818 non-null  int64 \n",
            "dtypes: int64(2), object(8)\n",
            "memory usage: 4.0+ MB\n",
            "None\n"
          ]
        }
      ]
    },
    {
      "cell_type": "markdown",
      "source": [
        "# Step 1- Exploratory Data Analysis"
      ],
      "metadata": {
        "id": "qks6lLHVIMdb"
      }
    },
    {
      "cell_type": "markdown",
      "source": [
        "First, lets carry out exploratory data analysis for preliminary diagnostics to glean AS-IS business insights. To do this, we'll observe the summary statistics, and carry out basic univariate and bivariate analysis using business questions.\n"
      ],
      "metadata": {
        "id": "-dF08UKQIajd"
      }
    },
    {
      "cell_type": "code",
      "source": [
        "#@title Table Summary\n",
        "\n",
        "# Display the first five rows of the present table\n",
        "columns_to_keep = ['Patient_ID', 'Diabetes_Type','Patient_Segment', 'Payer_Group', 'ADC_Payer_Name', '1M_OOP_Bucket', 'HCP_Specialty_Group', 'HCP_State', 'NBRx_Product', 'Active_Flag' ]\n",
        "dataset = dataset[columns_to_keep]\n",
        "dataset.head(5)"
      ],
      "metadata": {
        "colab": {
          "base_uri": "https://localhost:8080/",
          "height": 206
        },
        "id": "P_bcVhcDJvqM",
        "outputId": "47ce6558-3fd7-4ab4-9982-97d5bdb7ce6a"
      },
      "execution_count": 4,
      "outputs": [
        {
          "output_type": "execute_result",
          "data": {
            "text/plain": [
              "   Patient_ID Diabetes_Type Patient_Segment Payer_Group  \\\n",
              "0    85549654            T2          MDI/PP    Medicaid   \n",
              "1    85550109            T2          MDI/PP    Medicaid   \n",
              "2    85552099            T2         Non-IUP  Commercial   \n",
              "3    85556738            T2         Non-IUP    Medicare   \n",
              "4    85565307            T2         Non-IUP        Cash   \n",
              "\n",
              "                    ADC_Payer_Name    1M_OOP_Bucket HCP_Specialty_Group  \\\n",
              "0  COOK CNTY HLTH AND HOSP SYS(IL)               $0                ENDO   \n",
              "1              UNITED HEALTH GROUP               $0             Unknown   \n",
              "2          EXPRESS SCRIPTS - (ESI)               $0                 PCP   \n",
              "3           BCBS EMPIRE/WELLCHOICE               $0                 PCP   \n",
              "4        ALL OTHER COUPON PROGRAMS  $20.01 - $40.00                ENDO   \n",
              "\n",
              "  HCP_State NBRx_Product  Active_Flag  \n",
              "0        IL         FSL2            1  \n",
              "1        WA         FSL2            0  \n",
              "2        NY         FSL2            0  \n",
              "3        NY         FSL2            0  \n",
              "4        FL         FSL2            0  "
            ],
            "text/html": [
              "\n",
              "  <div id=\"df-475bbab4-1765-4897-91e6-b85fba6eab92\" class=\"colab-df-container\">\n",
              "    <div>\n",
              "<style scoped>\n",
              "    .dataframe tbody tr th:only-of-type {\n",
              "        vertical-align: middle;\n",
              "    }\n",
              "\n",
              "    .dataframe tbody tr th {\n",
              "        vertical-align: top;\n",
              "    }\n",
              "\n",
              "    .dataframe thead th {\n",
              "        text-align: right;\n",
              "    }\n",
              "</style>\n",
              "<table border=\"1\" class=\"dataframe\">\n",
              "  <thead>\n",
              "    <tr style=\"text-align: right;\">\n",
              "      <th></th>\n",
              "      <th>Patient_ID</th>\n",
              "      <th>Diabetes_Type</th>\n",
              "      <th>Patient_Segment</th>\n",
              "      <th>Payer_Group</th>\n",
              "      <th>ADC_Payer_Name</th>\n",
              "      <th>1M_OOP_Bucket</th>\n",
              "      <th>HCP_Specialty_Group</th>\n",
              "      <th>HCP_State</th>\n",
              "      <th>NBRx_Product</th>\n",
              "      <th>Active_Flag</th>\n",
              "    </tr>\n",
              "  </thead>\n",
              "  <tbody>\n",
              "    <tr>\n",
              "      <th>0</th>\n",
              "      <td>85549654</td>\n",
              "      <td>T2</td>\n",
              "      <td>MDI/PP</td>\n",
              "      <td>Medicaid</td>\n",
              "      <td>COOK CNTY HLTH AND HOSP SYS(IL)</td>\n",
              "      <td>$0</td>\n",
              "      <td>ENDO</td>\n",
              "      <td>IL</td>\n",
              "      <td>FSL2</td>\n",
              "      <td>1</td>\n",
              "    </tr>\n",
              "    <tr>\n",
              "      <th>1</th>\n",
              "      <td>85550109</td>\n",
              "      <td>T2</td>\n",
              "      <td>MDI/PP</td>\n",
              "      <td>Medicaid</td>\n",
              "      <td>UNITED HEALTH GROUP</td>\n",
              "      <td>$0</td>\n",
              "      <td>Unknown</td>\n",
              "      <td>WA</td>\n",
              "      <td>FSL2</td>\n",
              "      <td>0</td>\n",
              "    </tr>\n",
              "    <tr>\n",
              "      <th>2</th>\n",
              "      <td>85552099</td>\n",
              "      <td>T2</td>\n",
              "      <td>Non-IUP</td>\n",
              "      <td>Commercial</td>\n",
              "      <td>EXPRESS SCRIPTS - (ESI)</td>\n",
              "      <td>$0</td>\n",
              "      <td>PCP</td>\n",
              "      <td>NY</td>\n",
              "      <td>FSL2</td>\n",
              "      <td>0</td>\n",
              "    </tr>\n",
              "    <tr>\n",
              "      <th>3</th>\n",
              "      <td>85556738</td>\n",
              "      <td>T2</td>\n",
              "      <td>Non-IUP</td>\n",
              "      <td>Medicare</td>\n",
              "      <td>BCBS EMPIRE/WELLCHOICE</td>\n",
              "      <td>$0</td>\n",
              "      <td>PCP</td>\n",
              "      <td>NY</td>\n",
              "      <td>FSL2</td>\n",
              "      <td>0</td>\n",
              "    </tr>\n",
              "    <tr>\n",
              "      <th>4</th>\n",
              "      <td>85565307</td>\n",
              "      <td>T2</td>\n",
              "      <td>Non-IUP</td>\n",
              "      <td>Cash</td>\n",
              "      <td>ALL OTHER COUPON PROGRAMS</td>\n",
              "      <td>$20.01 - $40.00</td>\n",
              "      <td>ENDO</td>\n",
              "      <td>FL</td>\n",
              "      <td>FSL2</td>\n",
              "      <td>0</td>\n",
              "    </tr>\n",
              "  </tbody>\n",
              "</table>\n",
              "</div>\n",
              "    <div class=\"colab-df-buttons\">\n",
              "\n",
              "  <div class=\"colab-df-container\">\n",
              "    <button class=\"colab-df-convert\" onclick=\"convertToInteractive('df-475bbab4-1765-4897-91e6-b85fba6eab92')\"\n",
              "            title=\"Convert this dataframe to an interactive table.\"\n",
              "            style=\"display:none;\">\n",
              "\n",
              "  <svg xmlns=\"http://www.w3.org/2000/svg\" height=\"24px\" viewBox=\"0 -960 960 960\">\n",
              "    <path d=\"M120-120v-720h720v720H120Zm60-500h600v-160H180v160Zm220 220h160v-160H400v160Zm0 220h160v-160H400v160ZM180-400h160v-160H180v160Zm440 0h160v-160H620v160ZM180-180h160v-160H180v160Zm440 0h160v-160H620v160Z\"/>\n",
              "  </svg>\n",
              "    </button>\n",
              "\n",
              "  <style>\n",
              "    .colab-df-container {\n",
              "      display:flex;\n",
              "      gap: 12px;\n",
              "    }\n",
              "\n",
              "    .colab-df-convert {\n",
              "      background-color: #E8F0FE;\n",
              "      border: none;\n",
              "      border-radius: 50%;\n",
              "      cursor: pointer;\n",
              "      display: none;\n",
              "      fill: #1967D2;\n",
              "      height: 32px;\n",
              "      padding: 0 0 0 0;\n",
              "      width: 32px;\n",
              "    }\n",
              "\n",
              "    .colab-df-convert:hover {\n",
              "      background-color: #E2EBFA;\n",
              "      box-shadow: 0px 1px 2px rgba(60, 64, 67, 0.3), 0px 1px 3px 1px rgba(60, 64, 67, 0.15);\n",
              "      fill: #174EA6;\n",
              "    }\n",
              "\n",
              "    .colab-df-buttons div {\n",
              "      margin-bottom: 4px;\n",
              "    }\n",
              "\n",
              "    [theme=dark] .colab-df-convert {\n",
              "      background-color: #3B4455;\n",
              "      fill: #D2E3FC;\n",
              "    }\n",
              "\n",
              "    [theme=dark] .colab-df-convert:hover {\n",
              "      background-color: #434B5C;\n",
              "      box-shadow: 0px 1px 3px 1px rgba(0, 0, 0, 0.15);\n",
              "      filter: drop-shadow(0px 1px 2px rgba(0, 0, 0, 0.3));\n",
              "      fill: #FFFFFF;\n",
              "    }\n",
              "  </style>\n",
              "\n",
              "    <script>\n",
              "      const buttonEl =\n",
              "        document.querySelector('#df-475bbab4-1765-4897-91e6-b85fba6eab92 button.colab-df-convert');\n",
              "      buttonEl.style.display =\n",
              "        google.colab.kernel.accessAllowed ? 'block' : 'none';\n",
              "\n",
              "      async function convertToInteractive(key) {\n",
              "        const element = document.querySelector('#df-475bbab4-1765-4897-91e6-b85fba6eab92');\n",
              "        const dataTable =\n",
              "          await google.colab.kernel.invokeFunction('convertToInteractive',\n",
              "                                                    [key], {});\n",
              "        if (!dataTable) return;\n",
              "\n",
              "        const docLinkHtml = 'Like what you see? Visit the ' +\n",
              "          '<a target=\"_blank\" href=https://colab.research.google.com/notebooks/data_table.ipynb>data table notebook</a>'\n",
              "          + ' to learn more about interactive tables.';\n",
              "        element.innerHTML = '';\n",
              "        dataTable['output_type'] = 'display_data';\n",
              "        await google.colab.output.renderOutput(dataTable, element);\n",
              "        const docLink = document.createElement('div');\n",
              "        docLink.innerHTML = docLinkHtml;\n",
              "        element.appendChild(docLink);\n",
              "      }\n",
              "    </script>\n",
              "  </div>\n",
              "\n",
              "\n",
              "<div id=\"df-f9fe6952-1378-4a6d-9d11-419ede0c2e68\">\n",
              "  <button class=\"colab-df-quickchart\" onclick=\"quickchart('df-f9fe6952-1378-4a6d-9d11-419ede0c2e68')\"\n",
              "            title=\"Suggest charts\"\n",
              "            style=\"display:none;\">\n",
              "\n",
              "<svg xmlns=\"http://www.w3.org/2000/svg\" height=\"24px\"viewBox=\"0 0 24 24\"\n",
              "     width=\"24px\">\n",
              "    <g>\n",
              "        <path d=\"M19 3H5c-1.1 0-2 .9-2 2v14c0 1.1.9 2 2 2h14c1.1 0 2-.9 2-2V5c0-1.1-.9-2-2-2zM9 17H7v-7h2v7zm4 0h-2V7h2v10zm4 0h-2v-4h2v4z\"/>\n",
              "    </g>\n",
              "</svg>\n",
              "  </button>\n",
              "\n",
              "<style>\n",
              "  .colab-df-quickchart {\n",
              "      --bg-color: #E8F0FE;\n",
              "      --fill-color: #1967D2;\n",
              "      --hover-bg-color: #E2EBFA;\n",
              "      --hover-fill-color: #174EA6;\n",
              "      --disabled-fill-color: #AAA;\n",
              "      --disabled-bg-color: #DDD;\n",
              "  }\n",
              "\n",
              "  [theme=dark] .colab-df-quickchart {\n",
              "      --bg-color: #3B4455;\n",
              "      --fill-color: #D2E3FC;\n",
              "      --hover-bg-color: #434B5C;\n",
              "      --hover-fill-color: #FFFFFF;\n",
              "      --disabled-bg-color: #3B4455;\n",
              "      --disabled-fill-color: #666;\n",
              "  }\n",
              "\n",
              "  .colab-df-quickchart {\n",
              "    background-color: var(--bg-color);\n",
              "    border: none;\n",
              "    border-radius: 50%;\n",
              "    cursor: pointer;\n",
              "    display: none;\n",
              "    fill: var(--fill-color);\n",
              "    height: 32px;\n",
              "    padding: 0;\n",
              "    width: 32px;\n",
              "  }\n",
              "\n",
              "  .colab-df-quickchart:hover {\n",
              "    background-color: var(--hover-bg-color);\n",
              "    box-shadow: 0 1px 2px rgba(60, 64, 67, 0.3), 0 1px 3px 1px rgba(60, 64, 67, 0.15);\n",
              "    fill: var(--button-hover-fill-color);\n",
              "  }\n",
              "\n",
              "  .colab-df-quickchart-complete:disabled,\n",
              "  .colab-df-quickchart-complete:disabled:hover {\n",
              "    background-color: var(--disabled-bg-color);\n",
              "    fill: var(--disabled-fill-color);\n",
              "    box-shadow: none;\n",
              "  }\n",
              "\n",
              "  .colab-df-spinner {\n",
              "    border: 2px solid var(--fill-color);\n",
              "    border-color: transparent;\n",
              "    border-bottom-color: var(--fill-color);\n",
              "    animation:\n",
              "      spin 1s steps(1) infinite;\n",
              "  }\n",
              "\n",
              "  @keyframes spin {\n",
              "    0% {\n",
              "      border-color: transparent;\n",
              "      border-bottom-color: var(--fill-color);\n",
              "      border-left-color: var(--fill-color);\n",
              "    }\n",
              "    20% {\n",
              "      border-color: transparent;\n",
              "      border-left-color: var(--fill-color);\n",
              "      border-top-color: var(--fill-color);\n",
              "    }\n",
              "    30% {\n",
              "      border-color: transparent;\n",
              "      border-left-color: var(--fill-color);\n",
              "      border-top-color: var(--fill-color);\n",
              "      border-right-color: var(--fill-color);\n",
              "    }\n",
              "    40% {\n",
              "      border-color: transparent;\n",
              "      border-right-color: var(--fill-color);\n",
              "      border-top-color: var(--fill-color);\n",
              "    }\n",
              "    60% {\n",
              "      border-color: transparent;\n",
              "      border-right-color: var(--fill-color);\n",
              "    }\n",
              "    80% {\n",
              "      border-color: transparent;\n",
              "      border-right-color: var(--fill-color);\n",
              "      border-bottom-color: var(--fill-color);\n",
              "    }\n",
              "    90% {\n",
              "      border-color: transparent;\n",
              "      border-bottom-color: var(--fill-color);\n",
              "    }\n",
              "  }\n",
              "</style>\n",
              "\n",
              "  <script>\n",
              "    async function quickchart(key) {\n",
              "      const quickchartButtonEl =\n",
              "        document.querySelector('#' + key + ' button');\n",
              "      quickchartButtonEl.disabled = true;  // To prevent multiple clicks.\n",
              "      quickchartButtonEl.classList.add('colab-df-spinner');\n",
              "      try {\n",
              "        const charts = await google.colab.kernel.invokeFunction(\n",
              "            'suggestCharts', [key], {});\n",
              "      } catch (error) {\n",
              "        console.error('Error during call to suggestCharts:', error);\n",
              "      }\n",
              "      quickchartButtonEl.classList.remove('colab-df-spinner');\n",
              "      quickchartButtonEl.classList.add('colab-df-quickchart-complete');\n",
              "    }\n",
              "    (() => {\n",
              "      let quickchartButtonEl =\n",
              "        document.querySelector('#df-f9fe6952-1378-4a6d-9d11-419ede0c2e68 button');\n",
              "      quickchartButtonEl.style.display =\n",
              "        google.colab.kernel.accessAllowed ? 'block' : 'none';\n",
              "    })();\n",
              "  </script>\n",
              "</div>\n",
              "\n",
              "    </div>\n",
              "  </div>\n"
            ],
            "application/vnd.google.colaboratory.intrinsic+json": {
              "type": "dataframe",
              "variable_name": "dataset",
              "summary": "{\n  \"name\": \"dataset\",\n  \"rows\": 52818,\n  \"fields\": [\n    {\n      \"column\": \"Patient_ID\",\n      \"properties\": {\n        \"dtype\": \"number\",\n        \"std\": 1611989724,\n        \"min\": 85549654,\n        \"max\": 5283244317,\n        \"num_unique_values\": 52818,\n        \"samples\": [\n          98411468,\n          119302311,\n          149302413\n        ],\n        \"semantic_type\": \"\",\n        \"description\": \"\"\n      }\n    },\n    {\n      \"column\": \"Diabetes_Type\",\n      \"properties\": {\n        \"dtype\": \"category\",\n        \"num_unique_values\": 3,\n        \"samples\": [\n          \"T2\",\n          \"Unknown\",\n          \"T1\"\n        ],\n        \"semantic_type\": \"\",\n        \"description\": \"\"\n      }\n    },\n    {\n      \"column\": \"Patient_Segment\",\n      \"properties\": {\n        \"dtype\": \"category\",\n        \"num_unique_values\": 3,\n        \"samples\": [\n          \"MDI/PP\",\n          \"Non-IUP\",\n          \"Basal\"\n        ],\n        \"semantic_type\": \"\",\n        \"description\": \"\"\n      }\n    },\n    {\n      \"column\": \"Payer_Group\",\n      \"properties\": {\n        \"dtype\": \"category\",\n        \"num_unique_values\": 5,\n        \"samples\": [\n          \"Commercial\",\n          \"Government\",\n          \"Medicare\"\n        ],\n        \"semantic_type\": \"\",\n        \"description\": \"\"\n      }\n    },\n    {\n      \"column\": \"ADC_Payer_Name\",\n      \"properties\": {\n        \"dtype\": \"category\",\n        \"num_unique_values\": 1122,\n        \"samples\": [\n          \"GOVCIO\",\n          \"COLORADO DRUG CARD\",\n          \"FLORIDA MANAGED MEDICAID\"\n        ],\n        \"semantic_type\": \"\",\n        \"description\": \"\"\n      }\n    },\n    {\n      \"column\": \"1M_OOP_Bucket\",\n      \"properties\": {\n        \"dtype\": \"category\",\n        \"num_unique_values\": 7,\n        \"samples\": [\n          \"$0\",\n          \"$20.01 - $40.00\",\n          \"$40.01 - $60.00\"\n        ],\n        \"semantic_type\": \"\",\n        \"description\": \"\"\n      }\n    },\n    {\n      \"column\": \"HCP_Specialty_Group\",\n      \"properties\": {\n        \"dtype\": \"category\",\n        \"num_unique_values\": 6,\n        \"samples\": [\n          \"ENDO\",\n          \"Unknown\",\n          \"PEDIATRICS\"\n        ],\n        \"semantic_type\": \"\",\n        \"description\": \"\"\n      }\n    },\n    {\n      \"column\": \"HCP_State\",\n      \"properties\": {\n        \"dtype\": \"category\",\n        \"num_unique_values\": 58,\n        \"samples\": [\n          \"IL\",\n          \"PA\",\n          \"WI\"\n        ],\n        \"semantic_type\": \"\",\n        \"description\": \"\"\n      }\n    },\n    {\n      \"column\": \"NBRx_Product\",\n      \"properties\": {\n        \"dtype\": \"category\",\n        \"num_unique_values\": 4,\n        \"samples\": [\n          \"FSL14D\",\n          \"FSL10D\",\n          \"FSL2\"\n        ],\n        \"semantic_type\": \"\",\n        \"description\": \"\"\n      }\n    },\n    {\n      \"column\": \"Active_Flag\",\n      \"properties\": {\n        \"dtype\": \"number\",\n        \"std\": 0,\n        \"min\": 0,\n        \"max\": 1,\n        \"num_unique_values\": 2,\n        \"samples\": [\n          0,\n          1\n        ],\n        \"semantic_type\": \"\",\n        \"description\": \"\"\n      }\n    }\n  ]\n}"
            }
          },
          "metadata": {},
          "execution_count": 4
        }
      ]
    },
    {
      "source": [
        "#Summary statistics\n",
        "#A. How many rows are there in the table?\n",
        "#B. How many columns are there in the table?\n",
        "#C. Show descriptives?\n",
        "#D. Any missing / null fields?\n",
        "\n",
        "print ('Number of Rows:', dataset.shape[0])\n",
        "print ('Number of Columns:', dataset.shape[1])\n",
        "#dataset.info()\n",
        "dataset.describe()\n",
        "dataset.isnull().mean()"
      ],
      "cell_type": "code",
      "execution_count": 5,
      "outputs": [
        {
          "output_type": "stream",
          "name": "stdout",
          "text": [
            "Number of Rows: 52818\n",
            "Number of Columns: 10\n"
          ]
        },
        {
          "output_type": "execute_result",
          "data": {
            "text/plain": [
              "Patient_ID             0.0\n",
              "Diabetes_Type          0.0\n",
              "Patient_Segment        0.0\n",
              "Payer_Group            0.0\n",
              "ADC_Payer_Name         0.0\n",
              "1M_OOP_Bucket          0.0\n",
              "HCP_Specialty_Group    0.0\n",
              "HCP_State              0.0\n",
              "NBRx_Product           0.0\n",
              "Active_Flag            0.0\n",
              "dtype: float64"
            ],
            "text/html": [
              "<div>\n",
              "<style scoped>\n",
              "    .dataframe tbody tr th:only-of-type {\n",
              "        vertical-align: middle;\n",
              "    }\n",
              "\n",
              "    .dataframe tbody tr th {\n",
              "        vertical-align: top;\n",
              "    }\n",
              "\n",
              "    .dataframe thead th {\n",
              "        text-align: right;\n",
              "    }\n",
              "</style>\n",
              "<table border=\"1\" class=\"dataframe\">\n",
              "  <thead>\n",
              "    <tr style=\"text-align: right;\">\n",
              "      <th></th>\n",
              "      <th>0</th>\n",
              "    </tr>\n",
              "  </thead>\n",
              "  <tbody>\n",
              "    <tr>\n",
              "      <th>Patient_ID</th>\n",
              "      <td>0.0</td>\n",
              "    </tr>\n",
              "    <tr>\n",
              "      <th>Diabetes_Type</th>\n",
              "      <td>0.0</td>\n",
              "    </tr>\n",
              "    <tr>\n",
              "      <th>Patient_Segment</th>\n",
              "      <td>0.0</td>\n",
              "    </tr>\n",
              "    <tr>\n",
              "      <th>Payer_Group</th>\n",
              "      <td>0.0</td>\n",
              "    </tr>\n",
              "    <tr>\n",
              "      <th>ADC_Payer_Name</th>\n",
              "      <td>0.0</td>\n",
              "    </tr>\n",
              "    <tr>\n",
              "      <th>1M_OOP_Bucket</th>\n",
              "      <td>0.0</td>\n",
              "    </tr>\n",
              "    <tr>\n",
              "      <th>HCP_Specialty_Group</th>\n",
              "      <td>0.0</td>\n",
              "    </tr>\n",
              "    <tr>\n",
              "      <th>HCP_State</th>\n",
              "      <td>0.0</td>\n",
              "    </tr>\n",
              "    <tr>\n",
              "      <th>NBRx_Product</th>\n",
              "      <td>0.0</td>\n",
              "    </tr>\n",
              "    <tr>\n",
              "      <th>Active_Flag</th>\n",
              "      <td>0.0</td>\n",
              "    </tr>\n",
              "  </tbody>\n",
              "</table>\n",
              "</div><br><label><b>dtype:</b> float64</label>"
            ]
          },
          "metadata": {},
          "execution_count": 5
        }
      ],
      "metadata": {
        "colab": {
          "base_uri": "https://localhost:8080/",
          "height": 432
        },
        "id": "Uqeen18eSCtP",
        "outputId": "9bebb943-7ff3-49f0-b738-d0cf951d8958",
        "collapsed": true
      }
    },
    {
      "cell_type": "code",
      "source": [
        "#@title Understanding the Business\n",
        "\n",
        "#What is our currrent Patients Retention Outlook?\n",
        "\n",
        "#A. How many unique patients do we have?\n",
        "#B. How many were dropped off after one year were there?\n",
        "#C. What is the dropp off rate?\n",
        "\n",
        "\n",
        "total_rows = len(dataset)\n",
        "droppoff_flags = (dataset[\"Active_Flag\"] == 0).sum()\n",
        "retained_flags = (dataset[\"Active_Flag\"] == 1).sum()\n",
        "droppoff_rate = (droppoff_flags / total_rows) * 100\n",
        "\n",
        "print(dataset[\"Patient_ID\"].nunique(), ':Unique Patients')\n",
        "print((dataset[\"Active_Flag\"] == 0).sum(), ':Churned before one year')\n",
        "print((dataset[\"Active_Flag\"] == 1).sum(), ':were Retained')\n",
        "print((droppoff_flags / total_rows) * 100, ': of patients fell off product before one year')"
      ],
      "metadata": {
        "colab": {
          "base_uri": "https://localhost:8080/",
          "height": 0
        },
        "id": "-ednO3RkJ9Nw",
        "outputId": "0836d723-87a8-432e-f956-341e3a4a90bd"
      },
      "execution_count": 6,
      "outputs": [
        {
          "output_type": "stream",
          "name": "stdout",
          "text": [
            "52818 :Unique Patients\n",
            "33135 :Churned before one year\n",
            "19683 :were Retained\n",
            "62.734295126661365 : of patients fell off product before one year\n"
          ]
        }
      ]
    },
    {
      "cell_type": "code",
      "source": [
        "#Estimate the contribution of key independent business attributes to traction.\n",
        "\n",
        "#A. What is the size of our largest Patient Segment by Treatment Regimen?\n",
        "#B. What is the breakdown of disease severity by type? Can we juxtapose this the general population (market)?\n",
        "#C. What Payer Category Drives the most reimbursement in terms of volume?\n",
        "#D. What are the most prescribed Abbot products?\n",
        "#E. Which HCP Specialty group are driving the most volume\n",
        "#F: Are there any dfinitions that need to be clarified? E.g 'Unkmown'\n",
        "\n",
        "# To do this lets do some univaruate analysis to inspect patient counts for some attributes.\n",
        "\n",
        "import plotly.subplots as sp\n",
        "import plotly.graph_objects as go\n",
        "\n",
        "# Columns to plot and Inspect\n",
        "categorical_columns = ['Diabetes_Type', 'Patient_Segment', 'Payer_Group', '1M_OOP_Bucket', 'NBRx_Product', 'HCP_Specialty_Group']\n",
        "fig = sp.make_subplots(rows=1, cols=len(categorical_columns), subplot_titles=categorical_columns)\n",
        "\n",
        "# Iterate through each categorical column to create individual bar plots\n",
        "for i, column in enumerate(categorical_columns):\n",
        "    # Get value counts for the column\n",
        "    value_counts = dataset[column].value_counts()\n",
        "\n",
        "    # Add a bar plot for the column\n",
        "    fig.add_trace(\n",
        "        go.Bar(x=value_counts.index, y=value_counts.values, name=column, text=value_counts.values, textposition='auto'),\n",
        "        row=1, col=i+1\n",
        "    )\n",
        "\n",
        "# Update layout for better visualization\n",
        "fig.update_layout(\n",
        "    title_text='Univariate Distributions of Categorical Columns',\n",
        "    showlegend=False,\n",
        "    height=600, width=1500\n",
        ")\n",
        "\n",
        "# Show plot\n",
        "fig.show()"
      ],
      "metadata": {
        "colab": {
          "base_uri": "https://localhost:8080/",
          "height": 637
        },
        "id": "Jgr2kyf_l81B",
        "outputId": "b9387a78-3909-49a3-d3e5-01cf632dba82"
      },
      "execution_count": 7,
      "outputs": [
        {
          "output_type": "display_data",
          "data": {
            "text/html": [
              "<html>\n",
              "<head><meta charset=\"utf-8\" /></head>\n",
              "<body>\n",
              "    <div>            <script src=\"https://cdnjs.cloudflare.com/ajax/libs/mathjax/2.7.5/MathJax.js?config=TeX-AMS-MML_SVG\"></script><script type=\"text/javascript\">if (window.MathJax && window.MathJax.Hub && window.MathJax.Hub.Config) {window.MathJax.Hub.Config({SVG: {font: \"STIX-Web\"}});}</script>                <script type=\"text/javascript\">window.PlotlyConfig = {MathJaxConfig: 'local'};</script>\n",
              "        <script charset=\"utf-8\" src=\"https://cdn.plot.ly/plotly-2.24.1.min.js\"></script>                <div id=\"6f153a20-5c5d-4371-9708-0caa05bbde1d\" class=\"plotly-graph-div\" style=\"height:600px; width:1500px;\"></div>            <script type=\"text/javascript\">                                    window.PLOTLYENV=window.PLOTLYENV || {};                                    if (document.getElementById(\"6f153a20-5c5d-4371-9708-0caa05bbde1d\")) {                    Plotly.newPlot(                        \"6f153a20-5c5d-4371-9708-0caa05bbde1d\",                        [{\"name\":\"Diabetes_Type\",\"text\":[31197.0,18935.0,2686.0],\"textposition\":\"auto\",\"x\":[\"T2\",\"Unknown\",\"T1\"],\"y\":[31197,18935,2686],\"type\":\"bar\",\"xaxis\":\"x\",\"yaxis\":\"y\"},{\"name\":\"Patient_Segment\",\"text\":[27227.0,14808.0,10783.0],\"textposition\":\"auto\",\"x\":[\"Non-IUP\",\"MDI\\u002fPP\",\"Basal\"],\"y\":[27227,14808,10783],\"type\":\"bar\",\"xaxis\":\"x2\",\"yaxis\":\"y2\"},{\"name\":\"Payer_Group\",\"text\":[32193.0,9564.0,5986.0,4980.0,95.0],\"textposition\":\"auto\",\"x\":[\"Commercial\",\"Cash\",\"Medicaid\",\"Medicare\",\"Government\"],\"y\":[32193,9564,5986,4980,95],\"type\":\"bar\",\"xaxis\":\"x3\",\"yaxis\":\"y3\"},{\"name\":\"1M_OOP_Bucket\",\"text\":[17431.0,15511.0,10121.0,5803.0,2317.0,1116.0,519.0],\"textposition\":\"auto\",\"x\":[\"$60.01 - $75.00\",\"$0\",\"\\u003e$75\",\"$20.01 - $40.00\",\"$0.01 - $20.00\",\"Unknown\",\"$40.01 - $60.00\"],\"y\":[17431,15511,10121,5803,2317,1116,519],\"type\":\"bar\",\"xaxis\":\"x4\",\"yaxis\":\"y4\"},{\"name\":\"NBRx_Product\",\"text\":[39625.0,13169.0,19.0,5.0],\"textposition\":\"auto\",\"x\":[\"FSL2\",\"FSL14D\",\"FSL3\",\"FSL10D\"],\"y\":[39625,13169,19,5],\"type\":\"bar\",\"xaxis\":\"x5\",\"yaxis\":\"y5\"},{\"name\":\"HCP_Specialty_Group\",\"text\":[31930.0,13810.0,5677.0,796.0,462.0,143.0],\"textposition\":\"auto\",\"x\":[\"PCP\",\"ENDO\",\"Unknown\",\"OB\\u002fGYN\",\"PEDIATRICS\",\"ACUTE CARE\"],\"y\":[31930,13810,5677,796,462,143],\"type\":\"bar\",\"xaxis\":\"x6\",\"yaxis\":\"y6\"}],                        {\"template\":{\"data\":{\"histogram2dcontour\":[{\"type\":\"histogram2dcontour\",\"colorbar\":{\"outlinewidth\":0,\"ticks\":\"\"},\"colorscale\":[[0.0,\"#0d0887\"],[0.1111111111111111,\"#46039f\"],[0.2222222222222222,\"#7201a8\"],[0.3333333333333333,\"#9c179e\"],[0.4444444444444444,\"#bd3786\"],[0.5555555555555556,\"#d8576b\"],[0.6666666666666666,\"#ed7953\"],[0.7777777777777778,\"#fb9f3a\"],[0.8888888888888888,\"#fdca26\"],[1.0,\"#f0f921\"]]}],\"choropleth\":[{\"type\":\"choropleth\",\"colorbar\":{\"outlinewidth\":0,\"ticks\":\"\"}}],\"histogram2d\":[{\"type\":\"histogram2d\",\"colorbar\":{\"outlinewidth\":0,\"ticks\":\"\"},\"colorscale\":[[0.0,\"#0d0887\"],[0.1111111111111111,\"#46039f\"],[0.2222222222222222,\"#7201a8\"],[0.3333333333333333,\"#9c179e\"],[0.4444444444444444,\"#bd3786\"],[0.5555555555555556,\"#d8576b\"],[0.6666666666666666,\"#ed7953\"],[0.7777777777777778,\"#fb9f3a\"],[0.8888888888888888,\"#fdca26\"],[1.0,\"#f0f921\"]]}],\"heatmap\":[{\"type\":\"heatmap\",\"colorbar\":{\"outlinewidth\":0,\"ticks\":\"\"},\"colorscale\":[[0.0,\"#0d0887\"],[0.1111111111111111,\"#46039f\"],[0.2222222222222222,\"#7201a8\"],[0.3333333333333333,\"#9c179e\"],[0.4444444444444444,\"#bd3786\"],[0.5555555555555556,\"#d8576b\"],[0.6666666666666666,\"#ed7953\"],[0.7777777777777778,\"#fb9f3a\"],[0.8888888888888888,\"#fdca26\"],[1.0,\"#f0f921\"]]}],\"heatmapgl\":[{\"type\":\"heatmapgl\",\"colorbar\":{\"outlinewidth\":0,\"ticks\":\"\"},\"colorscale\":[[0.0,\"#0d0887\"],[0.1111111111111111,\"#46039f\"],[0.2222222222222222,\"#7201a8\"],[0.3333333333333333,\"#9c179e\"],[0.4444444444444444,\"#bd3786\"],[0.5555555555555556,\"#d8576b\"],[0.6666666666666666,\"#ed7953\"],[0.7777777777777778,\"#fb9f3a\"],[0.8888888888888888,\"#fdca26\"],[1.0,\"#f0f921\"]]}],\"contourcarpet\":[{\"type\":\"contourcarpet\",\"colorbar\":{\"outlinewidth\":0,\"ticks\":\"\"}}],\"contour\":[{\"type\":\"contour\",\"colorbar\":{\"outlinewidth\":0,\"ticks\":\"\"},\"colorscale\":[[0.0,\"#0d0887\"],[0.1111111111111111,\"#46039f\"],[0.2222222222222222,\"#7201a8\"],[0.3333333333333333,\"#9c179e\"],[0.4444444444444444,\"#bd3786\"],[0.5555555555555556,\"#d8576b\"],[0.6666666666666666,\"#ed7953\"],[0.7777777777777778,\"#fb9f3a\"],[0.8888888888888888,\"#fdca26\"],[1.0,\"#f0f921\"]]}],\"surface\":[{\"type\":\"surface\",\"colorbar\":{\"outlinewidth\":0,\"ticks\":\"\"},\"colorscale\":[[0.0,\"#0d0887\"],[0.1111111111111111,\"#46039f\"],[0.2222222222222222,\"#7201a8\"],[0.3333333333333333,\"#9c179e\"],[0.4444444444444444,\"#bd3786\"],[0.5555555555555556,\"#d8576b\"],[0.6666666666666666,\"#ed7953\"],[0.7777777777777778,\"#fb9f3a\"],[0.8888888888888888,\"#fdca26\"],[1.0,\"#f0f921\"]]}],\"mesh3d\":[{\"type\":\"mesh3d\",\"colorbar\":{\"outlinewidth\":0,\"ticks\":\"\"}}],\"scatter\":[{\"fillpattern\":{\"fillmode\":\"overlay\",\"size\":10,\"solidity\":0.2},\"type\":\"scatter\"}],\"parcoords\":[{\"type\":\"parcoords\",\"line\":{\"colorbar\":{\"outlinewidth\":0,\"ticks\":\"\"}}}],\"scatterpolargl\":[{\"type\":\"scatterpolargl\",\"marker\":{\"colorbar\":{\"outlinewidth\":0,\"ticks\":\"\"}}}],\"bar\":[{\"error_x\":{\"color\":\"#2a3f5f\"},\"error_y\":{\"color\":\"#2a3f5f\"},\"marker\":{\"line\":{\"color\":\"#E5ECF6\",\"width\":0.5},\"pattern\":{\"fillmode\":\"overlay\",\"size\":10,\"solidity\":0.2}},\"type\":\"bar\"}],\"scattergeo\":[{\"type\":\"scattergeo\",\"marker\":{\"colorbar\":{\"outlinewidth\":0,\"ticks\":\"\"}}}],\"scatterpolar\":[{\"type\":\"scatterpolar\",\"marker\":{\"colorbar\":{\"outlinewidth\":0,\"ticks\":\"\"}}}],\"histogram\":[{\"marker\":{\"pattern\":{\"fillmode\":\"overlay\",\"size\":10,\"solidity\":0.2}},\"type\":\"histogram\"}],\"scattergl\":[{\"type\":\"scattergl\",\"marker\":{\"colorbar\":{\"outlinewidth\":0,\"ticks\":\"\"}}}],\"scatter3d\":[{\"type\":\"scatter3d\",\"line\":{\"colorbar\":{\"outlinewidth\":0,\"ticks\":\"\"}},\"marker\":{\"colorbar\":{\"outlinewidth\":0,\"ticks\":\"\"}}}],\"scattermapbox\":[{\"type\":\"scattermapbox\",\"marker\":{\"colorbar\":{\"outlinewidth\":0,\"ticks\":\"\"}}}],\"scatterternary\":[{\"type\":\"scatterternary\",\"marker\":{\"colorbar\":{\"outlinewidth\":0,\"ticks\":\"\"}}}],\"scattercarpet\":[{\"type\":\"scattercarpet\",\"marker\":{\"colorbar\":{\"outlinewidth\":0,\"ticks\":\"\"}}}],\"carpet\":[{\"aaxis\":{\"endlinecolor\":\"#2a3f5f\",\"gridcolor\":\"white\",\"linecolor\":\"white\",\"minorgridcolor\":\"white\",\"startlinecolor\":\"#2a3f5f\"},\"baxis\":{\"endlinecolor\":\"#2a3f5f\",\"gridcolor\":\"white\",\"linecolor\":\"white\",\"minorgridcolor\":\"white\",\"startlinecolor\":\"#2a3f5f\"},\"type\":\"carpet\"}],\"table\":[{\"cells\":{\"fill\":{\"color\":\"#EBF0F8\"},\"line\":{\"color\":\"white\"}},\"header\":{\"fill\":{\"color\":\"#C8D4E3\"},\"line\":{\"color\":\"white\"}},\"type\":\"table\"}],\"barpolar\":[{\"marker\":{\"line\":{\"color\":\"#E5ECF6\",\"width\":0.5},\"pattern\":{\"fillmode\":\"overlay\",\"size\":10,\"solidity\":0.2}},\"type\":\"barpolar\"}],\"pie\":[{\"automargin\":true,\"type\":\"pie\"}]},\"layout\":{\"autotypenumbers\":\"strict\",\"colorway\":[\"#636efa\",\"#EF553B\",\"#00cc96\",\"#ab63fa\",\"#FFA15A\",\"#19d3f3\",\"#FF6692\",\"#B6E880\",\"#FF97FF\",\"#FECB52\"],\"font\":{\"color\":\"#2a3f5f\"},\"hovermode\":\"closest\",\"hoverlabel\":{\"align\":\"left\"},\"paper_bgcolor\":\"white\",\"plot_bgcolor\":\"#E5ECF6\",\"polar\":{\"bgcolor\":\"#E5ECF6\",\"angularaxis\":{\"gridcolor\":\"white\",\"linecolor\":\"white\",\"ticks\":\"\"},\"radialaxis\":{\"gridcolor\":\"white\",\"linecolor\":\"white\",\"ticks\":\"\"}},\"ternary\":{\"bgcolor\":\"#E5ECF6\",\"aaxis\":{\"gridcolor\":\"white\",\"linecolor\":\"white\",\"ticks\":\"\"},\"baxis\":{\"gridcolor\":\"white\",\"linecolor\":\"white\",\"ticks\":\"\"},\"caxis\":{\"gridcolor\":\"white\",\"linecolor\":\"white\",\"ticks\":\"\"}},\"coloraxis\":{\"colorbar\":{\"outlinewidth\":0,\"ticks\":\"\"}},\"colorscale\":{\"sequential\":[[0.0,\"#0d0887\"],[0.1111111111111111,\"#46039f\"],[0.2222222222222222,\"#7201a8\"],[0.3333333333333333,\"#9c179e\"],[0.4444444444444444,\"#bd3786\"],[0.5555555555555556,\"#d8576b\"],[0.6666666666666666,\"#ed7953\"],[0.7777777777777778,\"#fb9f3a\"],[0.8888888888888888,\"#fdca26\"],[1.0,\"#f0f921\"]],\"sequentialminus\":[[0.0,\"#0d0887\"],[0.1111111111111111,\"#46039f\"],[0.2222222222222222,\"#7201a8\"],[0.3333333333333333,\"#9c179e\"],[0.4444444444444444,\"#bd3786\"],[0.5555555555555556,\"#d8576b\"],[0.6666666666666666,\"#ed7953\"],[0.7777777777777778,\"#fb9f3a\"],[0.8888888888888888,\"#fdca26\"],[1.0,\"#f0f921\"]],\"diverging\":[[0,\"#8e0152\"],[0.1,\"#c51b7d\"],[0.2,\"#de77ae\"],[0.3,\"#f1b6da\"],[0.4,\"#fde0ef\"],[0.5,\"#f7f7f7\"],[0.6,\"#e6f5d0\"],[0.7,\"#b8e186\"],[0.8,\"#7fbc41\"],[0.9,\"#4d9221\"],[1,\"#276419\"]]},\"xaxis\":{\"gridcolor\":\"white\",\"linecolor\":\"white\",\"ticks\":\"\",\"title\":{\"standoff\":15},\"zerolinecolor\":\"white\",\"automargin\":true,\"zerolinewidth\":2},\"yaxis\":{\"gridcolor\":\"white\",\"linecolor\":\"white\",\"ticks\":\"\",\"title\":{\"standoff\":15},\"zerolinecolor\":\"white\",\"automargin\":true,\"zerolinewidth\":2},\"scene\":{\"xaxis\":{\"backgroundcolor\":\"#E5ECF6\",\"gridcolor\":\"white\",\"linecolor\":\"white\",\"showbackground\":true,\"ticks\":\"\",\"zerolinecolor\":\"white\",\"gridwidth\":2},\"yaxis\":{\"backgroundcolor\":\"#E5ECF6\",\"gridcolor\":\"white\",\"linecolor\":\"white\",\"showbackground\":true,\"ticks\":\"\",\"zerolinecolor\":\"white\",\"gridwidth\":2},\"zaxis\":{\"backgroundcolor\":\"#E5ECF6\",\"gridcolor\":\"white\",\"linecolor\":\"white\",\"showbackground\":true,\"ticks\":\"\",\"zerolinecolor\":\"white\",\"gridwidth\":2}},\"shapedefaults\":{\"line\":{\"color\":\"#2a3f5f\"}},\"annotationdefaults\":{\"arrowcolor\":\"#2a3f5f\",\"arrowhead\":0,\"arrowwidth\":1},\"geo\":{\"bgcolor\":\"white\",\"landcolor\":\"#E5ECF6\",\"subunitcolor\":\"white\",\"showland\":true,\"showlakes\":true,\"lakecolor\":\"white\"},\"title\":{\"x\":0.05},\"mapbox\":{\"style\":\"light\"}}},\"xaxis\":{\"anchor\":\"y\",\"domain\":[0.0,0.1388888888888889]},\"yaxis\":{\"anchor\":\"x\",\"domain\":[0.0,1.0]},\"xaxis2\":{\"anchor\":\"y2\",\"domain\":[0.17222222222222222,0.3111111111111111]},\"yaxis2\":{\"anchor\":\"x2\",\"domain\":[0.0,1.0]},\"xaxis3\":{\"anchor\":\"y3\",\"domain\":[0.34444444444444444,0.48333333333333334]},\"yaxis3\":{\"anchor\":\"x3\",\"domain\":[0.0,1.0]},\"xaxis4\":{\"anchor\":\"y4\",\"domain\":[0.5166666666666667,0.6555555555555557]},\"yaxis4\":{\"anchor\":\"x4\",\"domain\":[0.0,1.0]},\"xaxis5\":{\"anchor\":\"y5\",\"domain\":[0.6888888888888889,0.8277777777777777]},\"yaxis5\":{\"anchor\":\"x5\",\"domain\":[0.0,1.0]},\"xaxis6\":{\"anchor\":\"y6\",\"domain\":[0.861111111111111,1.0]},\"yaxis6\":{\"anchor\":\"x6\",\"domain\":[0.0,1.0]},\"annotations\":[{\"font\":{\"size\":16},\"showarrow\":false,\"text\":\"Diabetes_Type\",\"x\":0.06944444444444445,\"xanchor\":\"center\",\"xref\":\"paper\",\"y\":1.0,\"yanchor\":\"bottom\",\"yref\":\"paper\"},{\"font\":{\"size\":16},\"showarrow\":false,\"text\":\"Patient_Segment\",\"x\":0.24166666666666667,\"xanchor\":\"center\",\"xref\":\"paper\",\"y\":1.0,\"yanchor\":\"bottom\",\"yref\":\"paper\"},{\"font\":{\"size\":16},\"showarrow\":false,\"text\":\"Payer_Group\",\"x\":0.41388888888888886,\"xanchor\":\"center\",\"xref\":\"paper\",\"y\":1.0,\"yanchor\":\"bottom\",\"yref\":\"paper\"},{\"font\":{\"size\":16},\"showarrow\":false,\"text\":\"1M_OOP_Bucket\",\"x\":0.5861111111111112,\"xanchor\":\"center\",\"xref\":\"paper\",\"y\":1.0,\"yanchor\":\"bottom\",\"yref\":\"paper\"},{\"font\":{\"size\":16},\"showarrow\":false,\"text\":\"NBRx_Product\",\"x\":0.7583333333333333,\"xanchor\":\"center\",\"xref\":\"paper\",\"y\":1.0,\"yanchor\":\"bottom\",\"yref\":\"paper\"},{\"font\":{\"size\":16},\"showarrow\":false,\"text\":\"HCP_Specialty_Group\",\"x\":0.9305555555555556,\"xanchor\":\"center\",\"xref\":\"paper\",\"y\":1.0,\"yanchor\":\"bottom\",\"yref\":\"paper\"}],\"title\":{\"text\":\"Univariate Distributions of Categorical Columns\"},\"showlegend\":false,\"height\":600,\"width\":1500},                        {\"responsive\": true}                    ).then(function(){\n",
              "                            \n",
              "var gd = document.getElementById('6f153a20-5c5d-4371-9708-0caa05bbde1d');\n",
              "var x = new MutationObserver(function (mutations, observer) {{\n",
              "        var display = window.getComputedStyle(gd).display;\n",
              "        if (!display || display === 'none') {{\n",
              "            console.log([gd, 'removed!']);\n",
              "            Plotly.purge(gd);\n",
              "            observer.disconnect();\n",
              "        }}\n",
              "}});\n",
              "\n",
              "// Listen for the removal of the full notebook cells\n",
              "var notebookContainer = gd.closest('#notebook-container');\n",
              "if (notebookContainer) {{\n",
              "    x.observe(notebookContainer, {childList: true});\n",
              "}}\n",
              "\n",
              "// Listen for the clearing of the current output cell\n",
              "var outputEl = gd.closest('.output');\n",
              "if (outputEl) {{\n",
              "    x.observe(outputEl, {childList: true});\n",
              "}}\n",
              "\n",
              "                        })                };                            </script>        </div>\n",
              "</body>\n",
              "</html>"
            ]
          },
          "metadata": {}
        }
      ]
    },
    {
      "cell_type": "code",
      "source": [
        "#What is the the churn situation like?  We can inspect this across our attributes of interest.\n",
        "\n",
        "#A. What Abbot product categories had the highest churn rate?\n",
        "#B. What Diabetes categories had the highest churn rate?\n",
        "#C. What Payer Category contributed to the most churn?\n",
        "#D. Which HCP Specialty contributed to the most churn?\n",
        "\n",
        "# We can do some bivariate analysis with Group By\n",
        "\n",
        "# Lets add a 'Churn' column based on the 'Active_Flag' column\n",
        "dataset['Churn'] = dataset['Active_Flag'].apply(lambda x: 'Churn' if x == 0 else 'Active')\n",
        "\n",
        "# Columns to evaluate against churn\n",
        "categorical_columns = ['Diabetes_Type', 'Patient_Segment', 'Payer_Group', '1M_OOP_Bucket', 'NBRx_Product', 'HCP_Specialty_Group']\n",
        "\n",
        "# Subplot with one row and multiple columns\n",
        "fig = sp.make_subplots(rows=1, cols=len(categorical_columns), subplot_titles=categorical_columns)\n",
        "\n",
        "# Iteration through each categorical column to create individual bar plots\n",
        "for i, column in enumerate(categorical_columns):\n",
        "    # Get the count of each category grouped by churn status\n",
        "    churn_counts = dataset.groupby([column, 'Churn']).size().reset_index(name='Count')\n",
        "\n",
        "    # Add a bar plot for each churn status\n",
        "    for churn_status in churn_counts['Churn'].unique():\n",
        "        # Filter the churn status data\n",
        "        churn_data = churn_counts[churn_counts['Churn'] == churn_status]\n",
        "\n",
        "        fig.add_trace(\n",
        "            go.Bar(x=churn_data[column], y=churn_data['Count'], name=f\"{column} - {churn_status}\", text=churn_data['Count'], textposition='auto'),\n",
        "            row=1, col=i+1\n",
        "        )\n",
        "\n",
        "# Update layout for better visualization\n",
        "fig.update_layout(\n",
        "    title_text='Distribution of Categorical Columns Against Churn',\n",
        "    showlegend=True,barmode='group',  # Group bars for better comparison\n",
        "    height=600, width=1600\n",
        ")\n",
        "\n",
        "# Show plot\n",
        "fig.show()\n"
      ],
      "metadata": {
        "colab": {
          "base_uri": "https://localhost:8080/",
          "height": 637
        },
        "id": "_ci0j9A6h30e",
        "outputId": "e2bac8e4-9749-4430-867b-a869a1e72b5d"
      },
      "execution_count": 8,
      "outputs": [
        {
          "output_type": "display_data",
          "data": {
            "text/html": [
              "<html>\n",
              "<head><meta charset=\"utf-8\" /></head>\n",
              "<body>\n",
              "    <div>            <script src=\"https://cdnjs.cloudflare.com/ajax/libs/mathjax/2.7.5/MathJax.js?config=TeX-AMS-MML_SVG\"></script><script type=\"text/javascript\">if (window.MathJax && window.MathJax.Hub && window.MathJax.Hub.Config) {window.MathJax.Hub.Config({SVG: {font: \"STIX-Web\"}});}</script>                <script type=\"text/javascript\">window.PlotlyConfig = {MathJaxConfig: 'local'};</script>\n",
              "        <script charset=\"utf-8\" src=\"https://cdn.plot.ly/plotly-2.24.1.min.js\"></script>                <div id=\"91a8445b-698f-4b5d-bacf-df8822f8e7ab\" class=\"plotly-graph-div\" style=\"height:600px; width:1600px;\"></div>            <script type=\"text/javascript\">                                    window.PLOTLYENV=window.PLOTLYENV || {};                                    if (document.getElementById(\"91a8445b-698f-4b5d-bacf-df8822f8e7ab\")) {                    Plotly.newPlot(                        \"91a8445b-698f-4b5d-bacf-df8822f8e7ab\",                        [{\"name\":\"Diabetes_Type - Active\",\"text\":[1085.0,13116.0,5482.0],\"textposition\":\"auto\",\"x\":[\"T1\",\"T2\",\"Unknown\"],\"y\":[1085,13116,5482],\"type\":\"bar\",\"xaxis\":\"x\",\"yaxis\":\"y\"},{\"name\":\"Diabetes_Type - Churn\",\"text\":[1601.0,18081.0,13453.0],\"textposition\":\"auto\",\"x\":[\"T1\",\"T2\",\"Unknown\"],\"y\":[1601,18081,13453],\"type\":\"bar\",\"xaxis\":\"x\",\"yaxis\":\"y\"},{\"name\":\"Patient_Segment - Active\",\"text\":[4464.0,6715.0,8504.0],\"textposition\":\"auto\",\"x\":[\"Basal\",\"MDI\\u002fPP\",\"Non-IUP\"],\"y\":[4464,6715,8504],\"type\":\"bar\",\"xaxis\":\"x2\",\"yaxis\":\"y2\"},{\"name\":\"Patient_Segment - Churn\",\"text\":[6319.0,8093.0,18723.0],\"textposition\":\"auto\",\"x\":[\"Basal\",\"MDI\\u002fPP\",\"Non-IUP\"],\"y\":[6319,8093,18723],\"type\":\"bar\",\"xaxis\":\"x2\",\"yaxis\":\"y2\"},{\"name\":\"Payer_Group - Active\",\"text\":[2510.0,11972.0,39.0,2679.0,2483.0],\"textposition\":\"auto\",\"x\":[\"Cash\",\"Commercial\",\"Government\",\"Medicaid\",\"Medicare\"],\"y\":[2510,11972,39,2679,2483],\"type\":\"bar\",\"xaxis\":\"x3\",\"yaxis\":\"y3\"},{\"name\":\"Payer_Group - Churn\",\"text\":[7054.0,20221.0,56.0,3307.0,2497.0],\"textposition\":\"auto\",\"x\":[\"Cash\",\"Commercial\",\"Government\",\"Medicaid\",\"Medicare\"],\"y\":[7054,20221,56,3307,2497],\"type\":\"bar\",\"xaxis\":\"x3\",\"yaxis\":\"y3\"},{\"name\":\"1M_OOP_Bucket - Active\",\"text\":[6674.0,1101.0,2636.0,206.0,6076.0,2608.0,382.0],\"textposition\":\"auto\",\"x\":[\"$0\",\"$0.01 - $20.00\",\"$20.01 - $40.00\",\"$40.01 - $60.00\",\"$60.01 - $75.00\",\"\\u003e$75\",\"Unknown\"],\"y\":[6674,1101,2636,206,6076,2608,382],\"type\":\"bar\",\"xaxis\":\"x4\",\"yaxis\":\"y4\"},{\"name\":\"1M_OOP_Bucket - Churn\",\"text\":[8837.0,1216.0,3167.0,313.0,11355.0,7513.0,734.0],\"textposition\":\"auto\",\"x\":[\"$0\",\"$0.01 - $20.00\",\"$20.01 - $40.00\",\"$40.01 - $60.00\",\"$60.01 - $75.00\",\"\\u003e$75\",\"Unknown\"],\"y\":[8837,1216,3167,313,11355,7513,734],\"type\":\"bar\",\"xaxis\":\"x4\",\"yaxis\":\"y4\"},{\"name\":\"NBRx_Product - Active\",\"text\":[1.0,4259.0,15419.0,4.0],\"textposition\":\"auto\",\"x\":[\"FSL10D\",\"FSL14D\",\"FSL2\",\"FSL3\"],\"y\":[1,4259,15419,4],\"type\":\"bar\",\"xaxis\":\"x5\",\"yaxis\":\"y5\"},{\"name\":\"NBRx_Product - Churn\",\"text\":[4.0,8910.0,24206.0,15.0],\"textposition\":\"auto\",\"x\":[\"FSL10D\",\"FSL14D\",\"FSL2\",\"FSL3\"],\"y\":[4,8910,24206,15],\"type\":\"bar\",\"xaxis\":\"x5\",\"yaxis\":\"y5\"},{\"name\":\"HCP_Specialty_Group - Active\",\"text\":[46.0,6054.0,86.0,11981.0,147.0,1369.0],\"textposition\":\"auto\",\"x\":[\"ACUTE CARE\",\"ENDO\",\"OB\\u002fGYN\",\"PCP\",\"PEDIATRICS\",\"Unknown\"],\"y\":[46,6054,86,11981,147,1369],\"type\":\"bar\",\"xaxis\":\"x6\",\"yaxis\":\"y6\"},{\"name\":\"HCP_Specialty_Group - Churn\",\"text\":[97.0,7756.0,710.0,19949.0,315.0,4308.0],\"textposition\":\"auto\",\"x\":[\"ACUTE CARE\",\"ENDO\",\"OB\\u002fGYN\",\"PCP\",\"PEDIATRICS\",\"Unknown\"],\"y\":[97,7756,710,19949,315,4308],\"type\":\"bar\",\"xaxis\":\"x6\",\"yaxis\":\"y6\"}],                        {\"template\":{\"data\":{\"histogram2dcontour\":[{\"type\":\"histogram2dcontour\",\"colorbar\":{\"outlinewidth\":0,\"ticks\":\"\"},\"colorscale\":[[0.0,\"#0d0887\"],[0.1111111111111111,\"#46039f\"],[0.2222222222222222,\"#7201a8\"],[0.3333333333333333,\"#9c179e\"],[0.4444444444444444,\"#bd3786\"],[0.5555555555555556,\"#d8576b\"],[0.6666666666666666,\"#ed7953\"],[0.7777777777777778,\"#fb9f3a\"],[0.8888888888888888,\"#fdca26\"],[1.0,\"#f0f921\"]]}],\"choropleth\":[{\"type\":\"choropleth\",\"colorbar\":{\"outlinewidth\":0,\"ticks\":\"\"}}],\"histogram2d\":[{\"type\":\"histogram2d\",\"colorbar\":{\"outlinewidth\":0,\"ticks\":\"\"},\"colorscale\":[[0.0,\"#0d0887\"],[0.1111111111111111,\"#46039f\"],[0.2222222222222222,\"#7201a8\"],[0.3333333333333333,\"#9c179e\"],[0.4444444444444444,\"#bd3786\"],[0.5555555555555556,\"#d8576b\"],[0.6666666666666666,\"#ed7953\"],[0.7777777777777778,\"#fb9f3a\"],[0.8888888888888888,\"#fdca26\"],[1.0,\"#f0f921\"]]}],\"heatmap\":[{\"type\":\"heatmap\",\"colorbar\":{\"outlinewidth\":0,\"ticks\":\"\"},\"colorscale\":[[0.0,\"#0d0887\"],[0.1111111111111111,\"#46039f\"],[0.2222222222222222,\"#7201a8\"],[0.3333333333333333,\"#9c179e\"],[0.4444444444444444,\"#bd3786\"],[0.5555555555555556,\"#d8576b\"],[0.6666666666666666,\"#ed7953\"],[0.7777777777777778,\"#fb9f3a\"],[0.8888888888888888,\"#fdca26\"],[1.0,\"#f0f921\"]]}],\"heatmapgl\":[{\"type\":\"heatmapgl\",\"colorbar\":{\"outlinewidth\":0,\"ticks\":\"\"},\"colorscale\":[[0.0,\"#0d0887\"],[0.1111111111111111,\"#46039f\"],[0.2222222222222222,\"#7201a8\"],[0.3333333333333333,\"#9c179e\"],[0.4444444444444444,\"#bd3786\"],[0.5555555555555556,\"#d8576b\"],[0.6666666666666666,\"#ed7953\"],[0.7777777777777778,\"#fb9f3a\"],[0.8888888888888888,\"#fdca26\"],[1.0,\"#f0f921\"]]}],\"contourcarpet\":[{\"type\":\"contourcarpet\",\"colorbar\":{\"outlinewidth\":0,\"ticks\":\"\"}}],\"contour\":[{\"type\":\"contour\",\"colorbar\":{\"outlinewidth\":0,\"ticks\":\"\"},\"colorscale\":[[0.0,\"#0d0887\"],[0.1111111111111111,\"#46039f\"],[0.2222222222222222,\"#7201a8\"],[0.3333333333333333,\"#9c179e\"],[0.4444444444444444,\"#bd3786\"],[0.5555555555555556,\"#d8576b\"],[0.6666666666666666,\"#ed7953\"],[0.7777777777777778,\"#fb9f3a\"],[0.8888888888888888,\"#fdca26\"],[1.0,\"#f0f921\"]]}],\"surface\":[{\"type\":\"surface\",\"colorbar\":{\"outlinewidth\":0,\"ticks\":\"\"},\"colorscale\":[[0.0,\"#0d0887\"],[0.1111111111111111,\"#46039f\"],[0.2222222222222222,\"#7201a8\"],[0.3333333333333333,\"#9c179e\"],[0.4444444444444444,\"#bd3786\"],[0.5555555555555556,\"#d8576b\"],[0.6666666666666666,\"#ed7953\"],[0.7777777777777778,\"#fb9f3a\"],[0.8888888888888888,\"#fdca26\"],[1.0,\"#f0f921\"]]}],\"mesh3d\":[{\"type\":\"mesh3d\",\"colorbar\":{\"outlinewidth\":0,\"ticks\":\"\"}}],\"scatter\":[{\"fillpattern\":{\"fillmode\":\"overlay\",\"size\":10,\"solidity\":0.2},\"type\":\"scatter\"}],\"parcoords\":[{\"type\":\"parcoords\",\"line\":{\"colorbar\":{\"outlinewidth\":0,\"ticks\":\"\"}}}],\"scatterpolargl\":[{\"type\":\"scatterpolargl\",\"marker\":{\"colorbar\":{\"outlinewidth\":0,\"ticks\":\"\"}}}],\"bar\":[{\"error_x\":{\"color\":\"#2a3f5f\"},\"error_y\":{\"color\":\"#2a3f5f\"},\"marker\":{\"line\":{\"color\":\"#E5ECF6\",\"width\":0.5},\"pattern\":{\"fillmode\":\"overlay\",\"size\":10,\"solidity\":0.2}},\"type\":\"bar\"}],\"scattergeo\":[{\"type\":\"scattergeo\",\"marker\":{\"colorbar\":{\"outlinewidth\":0,\"ticks\":\"\"}}}],\"scatterpolar\":[{\"type\":\"scatterpolar\",\"marker\":{\"colorbar\":{\"outlinewidth\":0,\"ticks\":\"\"}}}],\"histogram\":[{\"marker\":{\"pattern\":{\"fillmode\":\"overlay\",\"size\":10,\"solidity\":0.2}},\"type\":\"histogram\"}],\"scattergl\":[{\"type\":\"scattergl\",\"marker\":{\"colorbar\":{\"outlinewidth\":0,\"ticks\":\"\"}}}],\"scatter3d\":[{\"type\":\"scatter3d\",\"line\":{\"colorbar\":{\"outlinewidth\":0,\"ticks\":\"\"}},\"marker\":{\"colorbar\":{\"outlinewidth\":0,\"ticks\":\"\"}}}],\"scattermapbox\":[{\"type\":\"scattermapbox\",\"marker\":{\"colorbar\":{\"outlinewidth\":0,\"ticks\":\"\"}}}],\"scatterternary\":[{\"type\":\"scatterternary\",\"marker\":{\"colorbar\":{\"outlinewidth\":0,\"ticks\":\"\"}}}],\"scattercarpet\":[{\"type\":\"scattercarpet\",\"marker\":{\"colorbar\":{\"outlinewidth\":0,\"ticks\":\"\"}}}],\"carpet\":[{\"aaxis\":{\"endlinecolor\":\"#2a3f5f\",\"gridcolor\":\"white\",\"linecolor\":\"white\",\"minorgridcolor\":\"white\",\"startlinecolor\":\"#2a3f5f\"},\"baxis\":{\"endlinecolor\":\"#2a3f5f\",\"gridcolor\":\"white\",\"linecolor\":\"white\",\"minorgridcolor\":\"white\",\"startlinecolor\":\"#2a3f5f\"},\"type\":\"carpet\"}],\"table\":[{\"cells\":{\"fill\":{\"color\":\"#EBF0F8\"},\"line\":{\"color\":\"white\"}},\"header\":{\"fill\":{\"color\":\"#C8D4E3\"},\"line\":{\"color\":\"white\"}},\"type\":\"table\"}],\"barpolar\":[{\"marker\":{\"line\":{\"color\":\"#E5ECF6\",\"width\":0.5},\"pattern\":{\"fillmode\":\"overlay\",\"size\":10,\"solidity\":0.2}},\"type\":\"barpolar\"}],\"pie\":[{\"automargin\":true,\"type\":\"pie\"}]},\"layout\":{\"autotypenumbers\":\"strict\",\"colorway\":[\"#636efa\",\"#EF553B\",\"#00cc96\",\"#ab63fa\",\"#FFA15A\",\"#19d3f3\",\"#FF6692\",\"#B6E880\",\"#FF97FF\",\"#FECB52\"],\"font\":{\"color\":\"#2a3f5f\"},\"hovermode\":\"closest\",\"hoverlabel\":{\"align\":\"left\"},\"paper_bgcolor\":\"white\",\"plot_bgcolor\":\"#E5ECF6\",\"polar\":{\"bgcolor\":\"#E5ECF6\",\"angularaxis\":{\"gridcolor\":\"white\",\"linecolor\":\"white\",\"ticks\":\"\"},\"radialaxis\":{\"gridcolor\":\"white\",\"linecolor\":\"white\",\"ticks\":\"\"}},\"ternary\":{\"bgcolor\":\"#E5ECF6\",\"aaxis\":{\"gridcolor\":\"white\",\"linecolor\":\"white\",\"ticks\":\"\"},\"baxis\":{\"gridcolor\":\"white\",\"linecolor\":\"white\",\"ticks\":\"\"},\"caxis\":{\"gridcolor\":\"white\",\"linecolor\":\"white\",\"ticks\":\"\"}},\"coloraxis\":{\"colorbar\":{\"outlinewidth\":0,\"ticks\":\"\"}},\"colorscale\":{\"sequential\":[[0.0,\"#0d0887\"],[0.1111111111111111,\"#46039f\"],[0.2222222222222222,\"#7201a8\"],[0.3333333333333333,\"#9c179e\"],[0.4444444444444444,\"#bd3786\"],[0.5555555555555556,\"#d8576b\"],[0.6666666666666666,\"#ed7953\"],[0.7777777777777778,\"#fb9f3a\"],[0.8888888888888888,\"#fdca26\"],[1.0,\"#f0f921\"]],\"sequentialminus\":[[0.0,\"#0d0887\"],[0.1111111111111111,\"#46039f\"],[0.2222222222222222,\"#7201a8\"],[0.3333333333333333,\"#9c179e\"],[0.4444444444444444,\"#bd3786\"],[0.5555555555555556,\"#d8576b\"],[0.6666666666666666,\"#ed7953\"],[0.7777777777777778,\"#fb9f3a\"],[0.8888888888888888,\"#fdca26\"],[1.0,\"#f0f921\"]],\"diverging\":[[0,\"#8e0152\"],[0.1,\"#c51b7d\"],[0.2,\"#de77ae\"],[0.3,\"#f1b6da\"],[0.4,\"#fde0ef\"],[0.5,\"#f7f7f7\"],[0.6,\"#e6f5d0\"],[0.7,\"#b8e186\"],[0.8,\"#7fbc41\"],[0.9,\"#4d9221\"],[1,\"#276419\"]]},\"xaxis\":{\"gridcolor\":\"white\",\"linecolor\":\"white\",\"ticks\":\"\",\"title\":{\"standoff\":15},\"zerolinecolor\":\"white\",\"automargin\":true,\"zerolinewidth\":2},\"yaxis\":{\"gridcolor\":\"white\",\"linecolor\":\"white\",\"ticks\":\"\",\"title\":{\"standoff\":15},\"zerolinecolor\":\"white\",\"automargin\":true,\"zerolinewidth\":2},\"scene\":{\"xaxis\":{\"backgroundcolor\":\"#E5ECF6\",\"gridcolor\":\"white\",\"linecolor\":\"white\",\"showbackground\":true,\"ticks\":\"\",\"zerolinecolor\":\"white\",\"gridwidth\":2},\"yaxis\":{\"backgroundcolor\":\"#E5ECF6\",\"gridcolor\":\"white\",\"linecolor\":\"white\",\"showbackground\":true,\"ticks\":\"\",\"zerolinecolor\":\"white\",\"gridwidth\":2},\"zaxis\":{\"backgroundcolor\":\"#E5ECF6\",\"gridcolor\":\"white\",\"linecolor\":\"white\",\"showbackground\":true,\"ticks\":\"\",\"zerolinecolor\":\"white\",\"gridwidth\":2}},\"shapedefaults\":{\"line\":{\"color\":\"#2a3f5f\"}},\"annotationdefaults\":{\"arrowcolor\":\"#2a3f5f\",\"arrowhead\":0,\"arrowwidth\":1},\"geo\":{\"bgcolor\":\"white\",\"landcolor\":\"#E5ECF6\",\"subunitcolor\":\"white\",\"showland\":true,\"showlakes\":true,\"lakecolor\":\"white\"},\"title\":{\"x\":0.05},\"mapbox\":{\"style\":\"light\"}}},\"xaxis\":{\"anchor\":\"y\",\"domain\":[0.0,0.1388888888888889]},\"yaxis\":{\"anchor\":\"x\",\"domain\":[0.0,1.0]},\"xaxis2\":{\"anchor\":\"y2\",\"domain\":[0.17222222222222222,0.3111111111111111]},\"yaxis2\":{\"anchor\":\"x2\",\"domain\":[0.0,1.0]},\"xaxis3\":{\"anchor\":\"y3\",\"domain\":[0.34444444444444444,0.48333333333333334]},\"yaxis3\":{\"anchor\":\"x3\",\"domain\":[0.0,1.0]},\"xaxis4\":{\"anchor\":\"y4\",\"domain\":[0.5166666666666667,0.6555555555555557]},\"yaxis4\":{\"anchor\":\"x4\",\"domain\":[0.0,1.0]},\"xaxis5\":{\"anchor\":\"y5\",\"domain\":[0.6888888888888889,0.8277777777777777]},\"yaxis5\":{\"anchor\":\"x5\",\"domain\":[0.0,1.0]},\"xaxis6\":{\"anchor\":\"y6\",\"domain\":[0.861111111111111,1.0]},\"yaxis6\":{\"anchor\":\"x6\",\"domain\":[0.0,1.0]},\"annotations\":[{\"font\":{\"size\":16},\"showarrow\":false,\"text\":\"Diabetes_Type\",\"x\":0.06944444444444445,\"xanchor\":\"center\",\"xref\":\"paper\",\"y\":1.0,\"yanchor\":\"bottom\",\"yref\":\"paper\"},{\"font\":{\"size\":16},\"showarrow\":false,\"text\":\"Patient_Segment\",\"x\":0.24166666666666667,\"xanchor\":\"center\",\"xref\":\"paper\",\"y\":1.0,\"yanchor\":\"bottom\",\"yref\":\"paper\"},{\"font\":{\"size\":16},\"showarrow\":false,\"text\":\"Payer_Group\",\"x\":0.41388888888888886,\"xanchor\":\"center\",\"xref\":\"paper\",\"y\":1.0,\"yanchor\":\"bottom\",\"yref\":\"paper\"},{\"font\":{\"size\":16},\"showarrow\":false,\"text\":\"1M_OOP_Bucket\",\"x\":0.5861111111111112,\"xanchor\":\"center\",\"xref\":\"paper\",\"y\":1.0,\"yanchor\":\"bottom\",\"yref\":\"paper\"},{\"font\":{\"size\":16},\"showarrow\":false,\"text\":\"NBRx_Product\",\"x\":0.7583333333333333,\"xanchor\":\"center\",\"xref\":\"paper\",\"y\":1.0,\"yanchor\":\"bottom\",\"yref\":\"paper\"},{\"font\":{\"size\":16},\"showarrow\":false,\"text\":\"HCP_Specialty_Group\",\"x\":0.9305555555555556,\"xanchor\":\"center\",\"xref\":\"paper\",\"y\":1.0,\"yanchor\":\"bottom\",\"yref\":\"paper\"}],\"title\":{\"text\":\"Distribution of Categorical Columns Against Churn\"},\"showlegend\":true,\"barmode\":\"group\",\"height\":600,\"width\":1600},                        {\"responsive\": true}                    ).then(function(){\n",
              "                            \n",
              "var gd = document.getElementById('91a8445b-698f-4b5d-bacf-df8822f8e7ab');\n",
              "var x = new MutationObserver(function (mutations, observer) {{\n",
              "        var display = window.getComputedStyle(gd).display;\n",
              "        if (!display || display === 'none') {{\n",
              "            console.log([gd, 'removed!']);\n",
              "            Plotly.purge(gd);\n",
              "            observer.disconnect();\n",
              "        }}\n",
              "}});\n",
              "\n",
              "// Listen for the removal of the full notebook cells\n",
              "var notebookContainer = gd.closest('#notebook-container');\n",
              "if (notebookContainer) {{\n",
              "    x.observe(notebookContainer, {childList: true});\n",
              "}}\n",
              "\n",
              "// Listen for the clearing of the current output cell\n",
              "var outputEl = gd.closest('.output');\n",
              "if (outputEl) {{\n",
              "    x.observe(outputEl, {childList: true});\n",
              "}}\n",
              "\n",
              "                        })                };                            </script>        </div>\n",
              "</body>\n",
              "</html>"
            ]
          },
          "metadata": {}
        }
      ]
    },
    {
      "cell_type": "code",
      "source": [
        "#Let's focus on churn count and evaluate against some column pairs.\n",
        "\n",
        "\n",
        "# Create a 'Churn' column based on the 'Active_Flag' column\n",
        "dataset['Churn'] = dataset['Active_Flag'].apply(lambda x: 'Churn' if x == 0 else 'Active')\n",
        "\n",
        "# Filter the data to only include churned records\n",
        "churn_df = dataset[dataset['Churn'] == 'Churn']\n",
        "\n",
        "# Define the pairs of columns to plot heatmaps\n",
        "heatmap_pairs = [\n",
        "    ('Diabetes_Type', 'Patient_Segment'),\n",
        "    ('Payer_Group', '1M_OOP_Bucket'),\n",
        "    ('HCP_Specialty_Group', 'NBRx_Product')\n",
        "]\n",
        "\n",
        "# Create a subplot with one row and multiple columns\n",
        "fig = sp.make_subplots(rows=1, cols=len(heatmap_pairs), subplot_titles=[f\"{x} vs {y}\" for x, y in heatmap_pairs])\n",
        "\n",
        "# Iterate through each pair to create individual heatmaps\n",
        "for i, (x_col, y_col) in enumerate(heatmap_pairs):\n",
        "    # Get the count of churned records for each pair combination\n",
        "    heatmap_data = churn_df.groupby([x_col, y_col]).size().reset_index(name='Churn Count')\n",
        "\n",
        "    # Create a pivot table to use for the heatmap\n",
        "    heatmap_pivot = heatmap_data.pivot(index=y_col, columns=x_col, values='Churn Count').fillna(0)\n",
        "\n",
        "    # Add a heatmap for the pair\n",
        "    fig.add_trace(\n",
        "        go.Heatmap(\n",
        "            z=heatmap_pivot.values,\n",
        "            x=heatmap_pivot.columns,\n",
        "            y=heatmap_pivot.index,\n",
        "            colorscale='Blues',\n",
        "            colorbar=dict(title=\"Churn Count\"),\n",
        "            hoverongaps=False\n",
        "        ),\n",
        "        row=1, col=i+1\n",
        "    )\n",
        "\n",
        "# Update layout for better visualization\n",
        "fig.update_layout(\n",
        "    title_text='Bivariate Analysis for Churn Count',\n",
        "    height=600, width=1800\n",
        ")\n",
        "\n",
        "# Show plot\n",
        "fig.show()"
      ],
      "metadata": {
        "colab": {
          "base_uri": "https://localhost:8080/",
          "height": 637
        },
        "id": "6cXDiFTy12vD",
        "outputId": "f1a31f58-a14d-4ff6-a883-0fb3cacf9698"
      },
      "execution_count": 9,
      "outputs": [
        {
          "output_type": "display_data",
          "data": {
            "text/html": [
              "<html>\n",
              "<head><meta charset=\"utf-8\" /></head>\n",
              "<body>\n",
              "    <div>            <script src=\"https://cdnjs.cloudflare.com/ajax/libs/mathjax/2.7.5/MathJax.js?config=TeX-AMS-MML_SVG\"></script><script type=\"text/javascript\">if (window.MathJax && window.MathJax.Hub && window.MathJax.Hub.Config) {window.MathJax.Hub.Config({SVG: {font: \"STIX-Web\"}});}</script>                <script type=\"text/javascript\">window.PlotlyConfig = {MathJaxConfig: 'local'};</script>\n",
              "        <script charset=\"utf-8\" src=\"https://cdn.plot.ly/plotly-2.24.1.min.js\"></script>                <div id=\"9675b23f-5624-4a35-a974-d8732180d31a\" class=\"plotly-graph-div\" style=\"height:600px; width:1800px;\"></div>            <script type=\"text/javascript\">                                    window.PLOTLYENV=window.PLOTLYENV || {};                                    if (document.getElementById(\"9675b23f-5624-4a35-a974-d8732180d31a\")) {                    Plotly.newPlot(                        \"9675b23f-5624-4a35-a974-d8732180d31a\",                        [{\"colorbar\":{\"title\":{\"text\":\"Churn Count\"}},\"colorscale\":[[0.0,\"rgb(247,251,255)\"],[0.125,\"rgb(222,235,247)\"],[0.25,\"rgb(198,219,239)\"],[0.375,\"rgb(158,202,225)\"],[0.5,\"rgb(107,174,214)\"],[0.625,\"rgb(66,146,198)\"],[0.75,\"rgb(33,113,181)\"],[0.875,\"rgb(8,81,156)\"],[1.0,\"rgb(8,48,107)\"]],\"hoverongaps\":false,\"x\":[\"T1\",\"T2\",\"Unknown\"],\"y\":[\"Basal\",\"MDI\\u002fPP\",\"Non-IUP\"],\"z\":[[174,4303,1842],[1334,5204,1555],[93,8574,10056]],\"type\":\"heatmap\",\"xaxis\":\"x\",\"yaxis\":\"y\"},{\"colorbar\":{\"title\":{\"text\":\"Churn Count\"}},\"colorscale\":[[0.0,\"rgb(247,251,255)\"],[0.125,\"rgb(222,235,247)\"],[0.25,\"rgb(198,219,239)\"],[0.375,\"rgb(158,202,225)\"],[0.5,\"rgb(107,174,214)\"],[0.625,\"rgb(66,146,198)\"],[0.75,\"rgb(33,113,181)\"],[0.875,\"rgb(8,81,156)\"],[1.0,\"rgb(8,48,107)\"]],\"hoverongaps\":false,\"x\":[\"Cash\",\"Commercial\",\"Government\",\"Medicaid\",\"Medicare\"],\"y\":[\"$0\",\"$0.01 - $20.00\",\"$20.01 - $40.00\",\"$40.01 - $60.00\",\"$60.01 - $75.00\",\"\\u003e$75\",\"Unknown\"],\"z\":[[870.0,3152.0,9.0,2836.0,1970.0],[103.0,878.0,1.0,143.0,91.0],[360.0,2445.0,23.0,117.0,222.0],[30.0,268.0,0.0,1.0,14.0],[1365.0,9783.0,14.0,128.0,65.0],[3840.0,3474.0,7.0,73.0,119.0],[486.0,221.0,2.0,9.0,16.0]],\"type\":\"heatmap\",\"xaxis\":\"x2\",\"yaxis\":\"y2\"},{\"colorbar\":{\"title\":{\"text\":\"Churn Count\"}},\"colorscale\":[[0.0,\"rgb(247,251,255)\"],[0.125,\"rgb(222,235,247)\"],[0.25,\"rgb(198,219,239)\"],[0.375,\"rgb(158,202,225)\"],[0.5,\"rgb(107,174,214)\"],[0.625,\"rgb(66,146,198)\"],[0.75,\"rgb(33,113,181)\"],[0.875,\"rgb(8,81,156)\"],[1.0,\"rgb(8,48,107)\"]],\"hoverongaps\":false,\"x\":[\"ACUTE CARE\",\"ENDO\",\"OB\\u002fGYN\",\"PCP\",\"PEDIATRICS\",\"Unknown\"],\"y\":[\"FSL10D\",\"FSL14D\",\"FSL2\",\"FSL3\"],\"z\":[[0.0,0.0,0.0,3.0,0.0,1.0],[23.0,781.0,231.0,5947.0,71.0,1857.0],[74.0,6969.0,479.0,13994.0,243.0,2447.0],[0.0,6.0,0.0,5.0,1.0,3.0]],\"type\":\"heatmap\",\"xaxis\":\"x3\",\"yaxis\":\"y3\"}],                        {\"template\":{\"data\":{\"histogram2dcontour\":[{\"type\":\"histogram2dcontour\",\"colorbar\":{\"outlinewidth\":0,\"ticks\":\"\"},\"colorscale\":[[0.0,\"#0d0887\"],[0.1111111111111111,\"#46039f\"],[0.2222222222222222,\"#7201a8\"],[0.3333333333333333,\"#9c179e\"],[0.4444444444444444,\"#bd3786\"],[0.5555555555555556,\"#d8576b\"],[0.6666666666666666,\"#ed7953\"],[0.7777777777777778,\"#fb9f3a\"],[0.8888888888888888,\"#fdca26\"],[1.0,\"#f0f921\"]]}],\"choropleth\":[{\"type\":\"choropleth\",\"colorbar\":{\"outlinewidth\":0,\"ticks\":\"\"}}],\"histogram2d\":[{\"type\":\"histogram2d\",\"colorbar\":{\"outlinewidth\":0,\"ticks\":\"\"},\"colorscale\":[[0.0,\"#0d0887\"],[0.1111111111111111,\"#46039f\"],[0.2222222222222222,\"#7201a8\"],[0.3333333333333333,\"#9c179e\"],[0.4444444444444444,\"#bd3786\"],[0.5555555555555556,\"#d8576b\"],[0.6666666666666666,\"#ed7953\"],[0.7777777777777778,\"#fb9f3a\"],[0.8888888888888888,\"#fdca26\"],[1.0,\"#f0f921\"]]}],\"heatmap\":[{\"type\":\"heatmap\",\"colorbar\":{\"outlinewidth\":0,\"ticks\":\"\"},\"colorscale\":[[0.0,\"#0d0887\"],[0.1111111111111111,\"#46039f\"],[0.2222222222222222,\"#7201a8\"],[0.3333333333333333,\"#9c179e\"],[0.4444444444444444,\"#bd3786\"],[0.5555555555555556,\"#d8576b\"],[0.6666666666666666,\"#ed7953\"],[0.7777777777777778,\"#fb9f3a\"],[0.8888888888888888,\"#fdca26\"],[1.0,\"#f0f921\"]]}],\"heatmapgl\":[{\"type\":\"heatmapgl\",\"colorbar\":{\"outlinewidth\":0,\"ticks\":\"\"},\"colorscale\":[[0.0,\"#0d0887\"],[0.1111111111111111,\"#46039f\"],[0.2222222222222222,\"#7201a8\"],[0.3333333333333333,\"#9c179e\"],[0.4444444444444444,\"#bd3786\"],[0.5555555555555556,\"#d8576b\"],[0.6666666666666666,\"#ed7953\"],[0.7777777777777778,\"#fb9f3a\"],[0.8888888888888888,\"#fdca26\"],[1.0,\"#f0f921\"]]}],\"contourcarpet\":[{\"type\":\"contourcarpet\",\"colorbar\":{\"outlinewidth\":0,\"ticks\":\"\"}}],\"contour\":[{\"type\":\"contour\",\"colorbar\":{\"outlinewidth\":0,\"ticks\":\"\"},\"colorscale\":[[0.0,\"#0d0887\"],[0.1111111111111111,\"#46039f\"],[0.2222222222222222,\"#7201a8\"],[0.3333333333333333,\"#9c179e\"],[0.4444444444444444,\"#bd3786\"],[0.5555555555555556,\"#d8576b\"],[0.6666666666666666,\"#ed7953\"],[0.7777777777777778,\"#fb9f3a\"],[0.8888888888888888,\"#fdca26\"],[1.0,\"#f0f921\"]]}],\"surface\":[{\"type\":\"surface\",\"colorbar\":{\"outlinewidth\":0,\"ticks\":\"\"},\"colorscale\":[[0.0,\"#0d0887\"],[0.1111111111111111,\"#46039f\"],[0.2222222222222222,\"#7201a8\"],[0.3333333333333333,\"#9c179e\"],[0.4444444444444444,\"#bd3786\"],[0.5555555555555556,\"#d8576b\"],[0.6666666666666666,\"#ed7953\"],[0.7777777777777778,\"#fb9f3a\"],[0.8888888888888888,\"#fdca26\"],[1.0,\"#f0f921\"]]}],\"mesh3d\":[{\"type\":\"mesh3d\",\"colorbar\":{\"outlinewidth\":0,\"ticks\":\"\"}}],\"scatter\":[{\"fillpattern\":{\"fillmode\":\"overlay\",\"size\":10,\"solidity\":0.2},\"type\":\"scatter\"}],\"parcoords\":[{\"type\":\"parcoords\",\"line\":{\"colorbar\":{\"outlinewidth\":0,\"ticks\":\"\"}}}],\"scatterpolargl\":[{\"type\":\"scatterpolargl\",\"marker\":{\"colorbar\":{\"outlinewidth\":0,\"ticks\":\"\"}}}],\"bar\":[{\"error_x\":{\"color\":\"#2a3f5f\"},\"error_y\":{\"color\":\"#2a3f5f\"},\"marker\":{\"line\":{\"color\":\"#E5ECF6\",\"width\":0.5},\"pattern\":{\"fillmode\":\"overlay\",\"size\":10,\"solidity\":0.2}},\"type\":\"bar\"}],\"scattergeo\":[{\"type\":\"scattergeo\",\"marker\":{\"colorbar\":{\"outlinewidth\":0,\"ticks\":\"\"}}}],\"scatterpolar\":[{\"type\":\"scatterpolar\",\"marker\":{\"colorbar\":{\"outlinewidth\":0,\"ticks\":\"\"}}}],\"histogram\":[{\"marker\":{\"pattern\":{\"fillmode\":\"overlay\",\"size\":10,\"solidity\":0.2}},\"type\":\"histogram\"}],\"scattergl\":[{\"type\":\"scattergl\",\"marker\":{\"colorbar\":{\"outlinewidth\":0,\"ticks\":\"\"}}}],\"scatter3d\":[{\"type\":\"scatter3d\",\"line\":{\"colorbar\":{\"outlinewidth\":0,\"ticks\":\"\"}},\"marker\":{\"colorbar\":{\"outlinewidth\":0,\"ticks\":\"\"}}}],\"scattermapbox\":[{\"type\":\"scattermapbox\",\"marker\":{\"colorbar\":{\"outlinewidth\":0,\"ticks\":\"\"}}}],\"scatterternary\":[{\"type\":\"scatterternary\",\"marker\":{\"colorbar\":{\"outlinewidth\":0,\"ticks\":\"\"}}}],\"scattercarpet\":[{\"type\":\"scattercarpet\",\"marker\":{\"colorbar\":{\"outlinewidth\":0,\"ticks\":\"\"}}}],\"carpet\":[{\"aaxis\":{\"endlinecolor\":\"#2a3f5f\",\"gridcolor\":\"white\",\"linecolor\":\"white\",\"minorgridcolor\":\"white\",\"startlinecolor\":\"#2a3f5f\"},\"baxis\":{\"endlinecolor\":\"#2a3f5f\",\"gridcolor\":\"white\",\"linecolor\":\"white\",\"minorgridcolor\":\"white\",\"startlinecolor\":\"#2a3f5f\"},\"type\":\"carpet\"}],\"table\":[{\"cells\":{\"fill\":{\"color\":\"#EBF0F8\"},\"line\":{\"color\":\"white\"}},\"header\":{\"fill\":{\"color\":\"#C8D4E3\"},\"line\":{\"color\":\"white\"}},\"type\":\"table\"}],\"barpolar\":[{\"marker\":{\"line\":{\"color\":\"#E5ECF6\",\"width\":0.5},\"pattern\":{\"fillmode\":\"overlay\",\"size\":10,\"solidity\":0.2}},\"type\":\"barpolar\"}],\"pie\":[{\"automargin\":true,\"type\":\"pie\"}]},\"layout\":{\"autotypenumbers\":\"strict\",\"colorway\":[\"#636efa\",\"#EF553B\",\"#00cc96\",\"#ab63fa\",\"#FFA15A\",\"#19d3f3\",\"#FF6692\",\"#B6E880\",\"#FF97FF\",\"#FECB52\"],\"font\":{\"color\":\"#2a3f5f\"},\"hovermode\":\"closest\",\"hoverlabel\":{\"align\":\"left\"},\"paper_bgcolor\":\"white\",\"plot_bgcolor\":\"#E5ECF6\",\"polar\":{\"bgcolor\":\"#E5ECF6\",\"angularaxis\":{\"gridcolor\":\"white\",\"linecolor\":\"white\",\"ticks\":\"\"},\"radialaxis\":{\"gridcolor\":\"white\",\"linecolor\":\"white\",\"ticks\":\"\"}},\"ternary\":{\"bgcolor\":\"#E5ECF6\",\"aaxis\":{\"gridcolor\":\"white\",\"linecolor\":\"white\",\"ticks\":\"\"},\"baxis\":{\"gridcolor\":\"white\",\"linecolor\":\"white\",\"ticks\":\"\"},\"caxis\":{\"gridcolor\":\"white\",\"linecolor\":\"white\",\"ticks\":\"\"}},\"coloraxis\":{\"colorbar\":{\"outlinewidth\":0,\"ticks\":\"\"}},\"colorscale\":{\"sequential\":[[0.0,\"#0d0887\"],[0.1111111111111111,\"#46039f\"],[0.2222222222222222,\"#7201a8\"],[0.3333333333333333,\"#9c179e\"],[0.4444444444444444,\"#bd3786\"],[0.5555555555555556,\"#d8576b\"],[0.6666666666666666,\"#ed7953\"],[0.7777777777777778,\"#fb9f3a\"],[0.8888888888888888,\"#fdca26\"],[1.0,\"#f0f921\"]],\"sequentialminus\":[[0.0,\"#0d0887\"],[0.1111111111111111,\"#46039f\"],[0.2222222222222222,\"#7201a8\"],[0.3333333333333333,\"#9c179e\"],[0.4444444444444444,\"#bd3786\"],[0.5555555555555556,\"#d8576b\"],[0.6666666666666666,\"#ed7953\"],[0.7777777777777778,\"#fb9f3a\"],[0.8888888888888888,\"#fdca26\"],[1.0,\"#f0f921\"]],\"diverging\":[[0,\"#8e0152\"],[0.1,\"#c51b7d\"],[0.2,\"#de77ae\"],[0.3,\"#f1b6da\"],[0.4,\"#fde0ef\"],[0.5,\"#f7f7f7\"],[0.6,\"#e6f5d0\"],[0.7,\"#b8e186\"],[0.8,\"#7fbc41\"],[0.9,\"#4d9221\"],[1,\"#276419\"]]},\"xaxis\":{\"gridcolor\":\"white\",\"linecolor\":\"white\",\"ticks\":\"\",\"title\":{\"standoff\":15},\"zerolinecolor\":\"white\",\"automargin\":true,\"zerolinewidth\":2},\"yaxis\":{\"gridcolor\":\"white\",\"linecolor\":\"white\",\"ticks\":\"\",\"title\":{\"standoff\":15},\"zerolinecolor\":\"white\",\"automargin\":true,\"zerolinewidth\":2},\"scene\":{\"xaxis\":{\"backgroundcolor\":\"#E5ECF6\",\"gridcolor\":\"white\",\"linecolor\":\"white\",\"showbackground\":true,\"ticks\":\"\",\"zerolinecolor\":\"white\",\"gridwidth\":2},\"yaxis\":{\"backgroundcolor\":\"#E5ECF6\",\"gridcolor\":\"white\",\"linecolor\":\"white\",\"showbackground\":true,\"ticks\":\"\",\"zerolinecolor\":\"white\",\"gridwidth\":2},\"zaxis\":{\"backgroundcolor\":\"#E5ECF6\",\"gridcolor\":\"white\",\"linecolor\":\"white\",\"showbackground\":true,\"ticks\":\"\",\"zerolinecolor\":\"white\",\"gridwidth\":2}},\"shapedefaults\":{\"line\":{\"color\":\"#2a3f5f\"}},\"annotationdefaults\":{\"arrowcolor\":\"#2a3f5f\",\"arrowhead\":0,\"arrowwidth\":1},\"geo\":{\"bgcolor\":\"white\",\"landcolor\":\"#E5ECF6\",\"subunitcolor\":\"white\",\"showland\":true,\"showlakes\":true,\"lakecolor\":\"white\"},\"title\":{\"x\":0.05},\"mapbox\":{\"style\":\"light\"}}},\"xaxis\":{\"anchor\":\"y\",\"domain\":[0.0,0.2888888888888889]},\"yaxis\":{\"anchor\":\"x\",\"domain\":[0.0,1.0]},\"xaxis2\":{\"anchor\":\"y2\",\"domain\":[0.35555555555555557,0.6444444444444445]},\"yaxis2\":{\"anchor\":\"x2\",\"domain\":[0.0,1.0]},\"xaxis3\":{\"anchor\":\"y3\",\"domain\":[0.7111111111111111,1.0]},\"yaxis3\":{\"anchor\":\"x3\",\"domain\":[0.0,1.0]},\"annotations\":[{\"font\":{\"size\":16},\"showarrow\":false,\"text\":\"Diabetes_Type vs Patient_Segment\",\"x\":0.14444444444444446,\"xanchor\":\"center\",\"xref\":\"paper\",\"y\":1.0,\"yanchor\":\"bottom\",\"yref\":\"paper\"},{\"font\":{\"size\":16},\"showarrow\":false,\"text\":\"Payer_Group vs 1M_OOP_Bucket\",\"x\":0.5,\"xanchor\":\"center\",\"xref\":\"paper\",\"y\":1.0,\"yanchor\":\"bottom\",\"yref\":\"paper\"},{\"font\":{\"size\":16},\"showarrow\":false,\"text\":\"HCP_Specialty_Group vs NBRx_Product\",\"x\":0.8555555555555556,\"xanchor\":\"center\",\"xref\":\"paper\",\"y\":1.0,\"yanchor\":\"bottom\",\"yref\":\"paper\"}],\"title\":{\"text\":\"Bivariate Analysis for Churn Count\"},\"height\":600,\"width\":1800},                        {\"responsive\": true}                    ).then(function(){\n",
              "                            \n",
              "var gd = document.getElementById('9675b23f-5624-4a35-a974-d8732180d31a');\n",
              "var x = new MutationObserver(function (mutations, observer) {{\n",
              "        var display = window.getComputedStyle(gd).display;\n",
              "        if (!display || display === 'none') {{\n",
              "            console.log([gd, 'removed!']);\n",
              "            Plotly.purge(gd);\n",
              "            observer.disconnect();\n",
              "        }}\n",
              "}});\n",
              "\n",
              "// Listen for the removal of the full notebook cells\n",
              "var notebookContainer = gd.closest('#notebook-container');\n",
              "if (notebookContainer) {{\n",
              "    x.observe(notebookContainer, {childList: true});\n",
              "}}\n",
              "\n",
              "// Listen for the clearing of the current output cell\n",
              "var outputEl = gd.closest('.output');\n",
              "if (outputEl) {{\n",
              "    x.observe(outputEl, {childList: true});\n",
              "}}\n",
              "\n",
              "                        })                };                            </script>        </div>\n",
              "</body>\n",
              "</html>"
            ]
          },
          "metadata": {}
        }
      ]
    },
    {
      "cell_type": "markdown",
      "source": [
        "In summary preliminary analysis of our market situation show that:\n",
        "\n",
        "* About 63% of all patients who were once active fall out/churn within a year.  \n",
        "\n",
        "* Patients with 'Unknown' diabetes type on Oral   Non-IUP treatment regimen accounted for the largest churn at 10k, followed closely by Type 2 diabetes patients on around 9k.  \n",
        "\n",
        "* Similarly, Patients on commercial insurance with '1M OOP'cost between $60-$75 accounted for the most churn at 10k followed by Cash category with $>75 '1M OOP' cost.\n",
        "\n",
        "* 'FSL2' product prescribed by 'PCP' accounted for the most churn at 14K, followed by FSL 2 by Endocrinologists at 7k, and FSL 14D by PCP respectively.\n",
        "\n"
      ],
      "metadata": {
        "id": "0KrV3ytq3rFi"
      }
    },
    {
      "cell_type": "markdown",
      "source": [
        "# Step 2- Implementing the S-A-UT Framework"
      ],
      "metadata": {
        "id": "B8cIbhKOMsXu"
      }
    },
    {
      "cell_type": "code",
      "source": [
        "#@title Introduction\n",
        "\n",
        "\n"
      ],
      "metadata": {
        "id": "72278_qNiBr8"
      },
      "execution_count": 10,
      "outputs": []
    },
    {
      "cell_type": "markdown",
      "source": [
        "The framework uses attributes such as Diabetes_Type, Patient_Segment, Payer_Group,  and 1M OOP to compute Severity, Affordability and Utilization for each patient profile.\n",
        "\n",
        "A number of factors influence consumer healthcare spending including physicians' practice speciality & attributes, marketing & promotion, brand equity, restrictions & prior authorization, etc. However Critical drivers for patients include:  \n",
        "\n",
        "* Efficacy: Is the medication clinically efficient enough to treat my condition?\n",
        "* Cost Effectivenss: How affordable is it? What are my copay options and Are there alternatives?\n",
        "\n",
        "[Source: National Library of Medicine. Ethiop J Health Sci. 2018 Nov; 28(6): 795–804.\n",
        "doi: 10.4314/ejhs.v28i6.15 *italicized text*]\n",
        "\n",
        "\n",
        "\n",
        "\n",
        "\n",
        "\n",
        "\n",
        "\n",
        "\n"
      ],
      "metadata": {
        "id": "5kFolUn-BEWc"
      }
    },
    {
      "cell_type": "code",
      "source": [
        "#@title Design the Scoring Framework"
      ],
      "metadata": {
        "id": "05qNdyhlUbNr"
      },
      "execution_count": null,
      "outputs": []
    },
    {
      "cell_type": "markdown",
      "source": [
        "Attributes are combined as follow:\n",
        "\n",
        "* Severity of the Disease - Patient Segment + Diabetes Type\n",
        "* Affordability of the interventions - Payer Group + 1M OOP + HDI_Rank (Feature Engineered)\n",
        "* Utilization of the interventions -  NBRx Product + HCP Category Group\n",
        "\n"
      ],
      "metadata": {
        "id": "tT6rWoGnUhVu"
      }
    },
    {
      "cell_type": "code",
      "source": [
        "#  Create a dataframe that includes the specified columns Diabetes_Type, Patient_Segment, Payer_Group, 1M OOP\n",
        "\n",
        "# Select the specified columns for the new dataframe\n",
        "columns_to_keep = ['Patient_ID', 'Diabetes_Type','Patient_Segment', 'NBRx_Product', 'HCP_Specialty_Group', 'HCP_State', 'Payer_Group', '1M_OOP_Bucket', 'Active_Flag' ]\n",
        "segment_attributes = dataset[columns_to_keep]\n"
      ],
      "metadata": {
        "id": "XnlcXqL9B_CP",
        "collapsed": true
      },
      "execution_count": 11,
      "outputs": []
    },
    {
      "cell_type": "markdown",
      "source": [
        "ANOVA check if attributes explains the variance in the target variable (i.e Active Flag vs Inactive Flag)"
      ],
      "metadata": {
        "id": "Gd7wbfKPPmRt"
      }
    },
    {
      "cell_type": "code",
      "source": [
        "#  Check the Analysis of Variance between each columns on active_flag and exclude some columns\n",
        "\n",
        "def check_aov(df, target_col, exclude_cols):\n",
        "  \"\"\"\n",
        "  Performs ANOVA test for each column in the DataFrame against the target column,\n",
        "  excluding specified columns.\n",
        "\n",
        "  Args:\n",
        "    df: The pandas DataFrame.\n",
        "    target_col: The name of the target column.\n",
        "    exclude_cols: A list of column names to exclude from the analysis.\n",
        "\n",
        "  Returns:\n",
        "    None. Prints the results of the ANOVA tests.\n",
        "  \"\"\"\n",
        "  for column in df.columns:\n",
        "    if column != target_col and column not in exclude_cols:\n",
        "      groups = df[column].unique()\n",
        "      group_data = [df[df[column] == group][target_col] for group in groups]\n",
        "      fvalue, pvalue = stats.f_oneway(*group_data)\n",
        "      print(f\"ANOVA for {column} vs {target_col}: F-value = {fvalue:.2f}, p-value = {pvalue:.3f}\")\n",
        "\n",
        "# Call the function\n",
        "exclude_columns = ['Patient_ID']\n",
        "check_aov(segment_attributes, 'Active_Flag', exclude_columns)\n"
      ],
      "metadata": {
        "colab": {
          "base_uri": "https://localhost:8080/",
          "height": 0
        },
        "id": "KAVtOdm3PZ2f",
        "outputId": "2c735b61-417d-4ee1-e3db-cc89b66db842"
      },
      "execution_count": 12,
      "outputs": [
        {
          "output_type": "stream",
          "name": "stdout",
          "text": [
            "ANOVA for Diabetes_Type vs Active_Flag: F-value = 445.15, p-value = 0.000\n",
            "ANOVA for Patient_Segment vs Active_Flag: F-value = 466.16, p-value = 0.000\n",
            "ANOVA for NBRx_Product vs Active_Flag: F-value = 61.99, p-value = 0.000\n",
            "ANOVA for HCP_Specialty_Group vs Active_Flag: F-value = 187.63, p-value = 0.000\n",
            "ANOVA for HCP_State vs Active_Flag: F-value = 8.12, p-value = 0.000\n",
            "ANOVA for Payer_Group vs Active_Flag: F-value = 249.36, p-value = 0.000\n",
            "ANOVA for 1M_OOP_Bucket vs Active_Flag: F-value = 189.11, p-value = 0.000\n"
          ]
        }
      ]
    },
    {
      "cell_type": "markdown",
      "source": [
        "P-value < 0.05 hence we reject the null hypothesis as the we are 95% confident that vraiance in the active flag can be explained by each of our contributor variable."
      ],
      "metadata": {
        "id": "1q75ctrr17Wk"
      }
    },
    {
      "cell_type": "code",
      "source": [
        "#Feature Engineering: Creation of HDI Rank for US States 2022 - Source UNDP Data 2022\n",
        "#HDI provides indications for standard of living, how educated and knowledgeable a population is.\n",
        "USState = dataset['HCP_State'].unique()\n",
        "print(USState)\n",
        "\n",
        "#Create the DataFrame using data from UNDP website\n",
        "#for Armed Forces Pacific AP, Armed Forces Europe use average HDI in the region\n",
        "#for Unkown use Average HDI for the known states\n",
        "data = {\n",
        "    'State': ['IL', 'WA', 'NY', 'FL', 'TX', 'PA', 'KS', 'AL', 'VA', 'CA', 'CO', 'NV', 'AZ', 'OH',\n",
        "              'TN', 'NJ', 'IN', 'MI', 'WV', 'LA', 'ND', 'MD', 'ID', 'ME', 'OR', 'MA', 'NC', 'GA',\n",
        "              'AR', 'KY', 'UT', 'SC', 'MO', 'MS', 'WI', 'SD', 'Unknown', 'RI', 'NE', 'PR', 'DE',\n",
        "              'IA', 'MN', 'WY', 'OK', 'NH', 'HI', 'AK', 'CT', 'VT', 'NM', 'MT', 'DC', 'VI', 'AP',\n",
        "              'Wa', 'GU', 'AE'],\n",
        "    'HDI': [0.935, 0.936, 0.946, 0.917, 0.913, 0.929, 0.928, 0.886, 0.913, 0.937, 0.948, 0.909, 0.914, 0.920,\n",
        "            0.890, 0.949, 0.913, 0.919, 0.872, 0.894, 0.948, 0.942, 0.912, 0.923, 0.936, 0.957, 0.913, 0.910,\n",
        "            0.886, 0.890, 0.921, 0.899, 0.913, 0.872, 0.936, 0.933, 0, 0.931, 0.939, 0.872, 0.937,\n",
        "            0.936, 0.953, 0.921, 0.901, 0.949, 0.946, 0.938, 0.956, 0.923, 0.907, 0.921, 0.947, 0.894, 0.92,\n",
        "            0.936, 0.872, 0.90]\n",
        "}\n",
        "\n",
        "HDI_df = pd.DataFrame(data)\n",
        "\n",
        "# Dealing with 'Unknown value' using Mean Insertion\n",
        "HDI_df.loc[HDI_df['State'] == 'Unknown', 'HDI'] = np.nan #Replace HDI value for 'Unknown' state with NaN\n",
        "average_hdi = HDI_df['HDI'].mean() # Calculate the average HDI for known states\n",
        "HDI_df['HDI'] = HDI_df['HDI'].fillna(average_hdi)# Fill 'Unknown' or missing HDI values with the average HDI\n",
        "\n",
        "#Calculate the quantiles and rank HDI\n",
        "HDI_df['HDI_Rank'] = pd.qcut(HDI_df['HDI'], 4, labels=[1, 2, 3, 4])\n",
        "\n",
        "segment_attributes = segment_attributes.merge(HDI_df, left_on='HCP_State', right_on='State', how='left')\n",
        "#  round HDI column to 3 decimal places\n",
        "segment_attributes['HDI'] = segment_attributes['HDI'].round(3)\n",
        "print(segment_attributes.head())\n"
      ],
      "metadata": {
        "colab": {
          "base_uri": "https://localhost:8080/",
          "height": 0
        },
        "id": "dfJJ37tYW8x6",
        "outputId": "a93e8155-2b60-488b-fbc8-54aa0f5af52a"
      },
      "execution_count": 13,
      "outputs": [
        {
          "output_type": "stream",
          "name": "stdout",
          "text": [
            "['IL' 'WA' 'NY' 'FL' 'TX' 'PA' 'KS' 'AL' 'VA' 'CA' 'CO' 'NV' 'AZ' 'OH'\n",
            " 'TN' 'NJ' 'IN' 'MI' 'WV' 'LA' 'ND' 'MD' 'ID' 'ME' 'OR' 'MA' 'NC' 'GA'\n",
            " 'AR' 'KY' 'UT' 'SC' 'MO' 'MS' 'WI' 'SD' 'Unknown' 'RI' 'NE' 'PR' 'DE'\n",
            " 'IA' 'MN' 'WY' 'OK' 'NH' 'HI' 'AK' 'CT' 'VT' 'NM' 'MT' 'DC' 'VI' 'AP'\n",
            " 'Wa' 'GU' 'AE']\n",
            "   Patient_ID Diabetes_Type Patient_Segment NBRx_Product HCP_Specialty_Group  \\\n",
            "0    85549654            T2          MDI/PP         FSL2                ENDO   \n",
            "1    85550109            T2          MDI/PP         FSL2             Unknown   \n",
            "2    85552099            T2         Non-IUP         FSL2                 PCP   \n",
            "3    85556738            T2         Non-IUP         FSL2                 PCP   \n",
            "4    85565307            T2         Non-IUP         FSL2                ENDO   \n",
            "\n",
            "  HCP_State Payer_Group    1M_OOP_Bucket  Active_Flag State    HDI HDI_Rank  \n",
            "0        IL    Medicaid               $0            1    IL  0.935        3  \n",
            "1        WA    Medicaid               $0            0    WA  0.936        3  \n",
            "2        NY  Commercial               $0            0    NY  0.946        4  \n",
            "3        NY    Medicare               $0            0    NY  0.946        4  \n",
            "4        FL        Cash  $20.01 - $40.00            0    FL  0.917        2  \n"
          ]
        }
      ]
    },
    {
      "cell_type": "code",
      "source": [
        "# A. Create Attributes for Severity, Affordability and Utilization\n",
        "segment_attributes['Severity'] = segment_attributes['Patient_Segment'] + ' - ' + segment_attributes['Diabetes_Type']\n",
        "segment_attributes['Utilization'] = segment_attributes['NBRx_Product'] + ' - ' + segment_attributes['HCP_Specialty_Group']\n",
        "segment_attributes['Affordability'] = segment_attributes['Payer_Group'] + ' - ' + segment_attributes['1M_OOP_Bucket'] + ' - '+segment_attributes['HDI_Rank'].astype(str)"
      ],
      "metadata": {
        "id": "iJsHYcwpYJLZ"
      },
      "execution_count": 14,
      "outputs": []
    },
    {
      "cell_type": "code",
      "source": [
        "#B. Assign Scores for Severity, Affordability & Utilization\n",
        "\n",
        "#For Severity:\n",
        "# Step 1: Get unique values of Severity combinations\n",
        "severity = segment_attributes['Severity'].unique()\n",
        "print(\"Unique Severity values:\", severity)\n",
        "severity=pd.DataFrame(severity, columns=['Category_s'])\n",
        "\n",
        "#Lets assign severity scores based on inference from Subject Matter Knowledge: 1 - Most Severe ; 4 - Least Severe\n",
        "#Type 1 Diabetes: Generally, more severe because the body does not produce insulin, and patients require lifelong insulin therapy.\n",
        "#Type 2 Diabetes: Severity Can vary, but generally less severe than Type 1 as the body produces/ sometimes oversecrets insulin but unable to function to effectively regulate glucose.\n",
        "#Type Unknown: Severity is uncertain without clear classification, but it may indicate an undefined or less controlled situation, which can have its own risks.\n",
        "#Treatment Regimen:\n",
        "#MDI/PP: Indicates a more intensive insulin therapy typically associated with severe cases. Might include a combination of long-acting insulin (BASAl) & rapid shot (BOLUS) ..adminstered 3+ times daily\n",
        "#Basal: Indicates a less intensive  insulin therapy with long-acting / background insulin (BASAl) administered to keep glucose level steady.\n",
        "#Non-IUP: Suggests that the patient is managing their diabetes with non-intensive treatment, potentially indicating a less severe condition with Oral Drugs use.\n",
        "\n",
        "# Based on the Above: Patients with Diabetes Type 1 on MDI/PP tretament is Most Severe (1)\n",
        "severity_scores = {\n",
        "    'MDI/PP - T1': 1,\n",
        "    'Basal - T1': 1,\n",
        "    'Non-IUP - T1': 1,\n",
        "    'MDI/PP - T2': 2,\n",
        "    'MDI/PP - Unknown': 2,\n",
        "    'Basal - T2': 3,\n",
        "    'Basal - Unknown': 3,\n",
        "    'Non-IUP - T2': 4,\n",
        "    'Non-IUP - Unknown': 4\n",
        "}\n",
        "# Step 2: Map the scores to the DataFrame\n",
        "severity['Score_s'] = severity['Category_s'].map(severity_scores)\n",
        "print(severity)"
      ],
      "metadata": {
        "colab": {
          "base_uri": "https://localhost:8080/",
          "height": 0
        },
        "id": "Iqkj9NuMZ260",
        "outputId": "f6f96b12-0af9-4029-b105-278c44c23c9d"
      },
      "execution_count": 15,
      "outputs": [
        {
          "output_type": "stream",
          "name": "stdout",
          "text": [
            "Unique Severity values: ['MDI/PP - T2' 'Non-IUP - T2' 'Non-IUP - Unknown' 'Basal - Unknown'\n",
            " 'Basal - T2' 'MDI/PP - Unknown' 'Non-IUP - T1' 'MDI/PP - T1' 'Basal - T1']\n",
            "          Category_s  Score_s\n",
            "0        MDI/PP - T2        2\n",
            "1       Non-IUP - T2        4\n",
            "2  Non-IUP - Unknown        4\n",
            "3    Basal - Unknown        3\n",
            "4         Basal - T2        3\n",
            "5   MDI/PP - Unknown        2\n",
            "6       Non-IUP - T1        1\n",
            "7        MDI/PP - T1        1\n",
            "8         Basal - T1        1\n"
          ]
        }
      ]
    },
    {
      "cell_type": "code",
      "source": [
        "#For Affordability:\n",
        "affordability = segment_attributes['Affordability'].unique()\n",
        "print(\"Unique Affordability values:\", affordability)"
      ],
      "metadata": {
        "colab": {
          "base_uri": "https://localhost:8080/",
          "height": 0
        },
        "id": "QC0vTw_CWsDJ",
        "outputId": "bcb53fbb-2d52-4e95-a115-dc935e8825b8"
      },
      "execution_count": 16,
      "outputs": [
        {
          "output_type": "stream",
          "name": "stdout",
          "text": [
            "Unique Affordability values: ['Medicaid - $0 - 3' 'Commercial - $0 - 4' 'Medicare - $0 - 4'\n",
            " 'Cash - $20.01 - $40.00 - 2' 'Commercial - $20.01 - $40.00 - 2'\n",
            " 'Commercial - $0 - 3' 'Commercial - $60.01 - $75.00 - 3'\n",
            " 'Commercial - $60.01 - $75.00 - 1' 'Commercial - $60.01 - $75.00 - 2'\n",
            " 'Commercial - >$75 - 4' 'Commercial - $60.01 - $75.00 - 4'\n",
            " 'Cash - $0 - 1' 'Medicaid - $0 - 2' 'Medicare - $0 - 1'\n",
            " 'Commercial - $0.01 - $20.00 - 2' 'Cash - >$75 - 3'\n",
            " 'Commercial - $20.01 - $40.00 - 4' 'Medicaid - $0 - 4' 'Cash - $0 - 2'\n",
            " 'Cash - >$75 - 2' 'Commercial - $20.01 - $40.00 - 1'\n",
            " 'Commercial - $0 - 2' 'Cash - >$75 - 1'\n",
            " 'Commercial - $40.01 - $60.00 - 3' 'Commercial - >$75 - 1'\n",
            " 'Cash - $60.01 - $75.00 - 2' 'Medicare - $20.01 - $40.00 - 3'\n",
            " 'Medicare - $0 - 2' 'Cash - >$75 - 4' 'Commercial - $0 - 1'\n",
            " 'Commercial - $20.01 - $40.00 - 3' 'Cash - Unknown - 4'\n",
            " 'Medicare - $20.01 - $40.00 - 2' 'Cash - $60.01 - $75.00 - 1'\n",
            " 'Medicare - $0.01 - $20.00 - 3' 'Commercial - >$75 - 2' 'Cash - $0 - 4'\n",
            " 'Commercial - $0.01 - $20.00 - 4' 'Medicare - $0 - 3'\n",
            " 'Commercial - $40.01 - $60.00 - 1' 'Cash - $20.01 - $40.00 - 1'\n",
            " 'Medicare - $0.01 - $20.00 - 4' 'Commercial - $0.01 - $20.00 - 1'\n",
            " 'Cash - $40.01 - $60.00 - 2' 'Commercial - >$75 - 3'\n",
            " 'Commercial - $40.01 - $60.00 - 4' 'Cash - $60.01 - $75.00 - 3'\n",
            " 'Commercial - $0.01 - $20.00 - 3' 'Commercial - Unknown - 1'\n",
            " 'Commercial - Unknown - 2' 'Medicaid - $20.01 - $40.00 - 3'\n",
            " 'Cash - Unknown - 3' 'Cash - $20.01 - $40.00 - 3' 'Medicare - >$75 - 4'\n",
            " 'Medicaid - $0.01 - $20.00 - 1' 'Cash - Unknown - 2'\n",
            " 'Commercial - Unknown - 4' 'Medicaid - $60.01 - $75.00 - 2'\n",
            " 'Medicaid - $20.01 - $40.00 - 1' 'Commercial - $40.01 - $60.00 - 2'\n",
            " 'Medicare - $60.01 - $75.00 - 4' 'Cash - $0.01 - $20.00 - 1'\n",
            " 'Medicaid - $0 - 1' 'Cash - $60.01 - $75.00 - 4'\n",
            " 'Medicaid - $20.01 - $40.00 - 4' 'Medicare - $20.01 - $40.00 - 1'\n",
            " 'Medicaid - $20.01 - $40.00 - 2' 'Medicare - >$75 - 2' 'Cash - $0 - 3'\n",
            " 'Medicare - $60.01 - $75.00 - 3' 'Cash - $0.01 - $20.00 - 2'\n",
            " 'Medicaid - >$75 - 4' 'Medicaid - $0.01 - $20.00 - 4'\n",
            " 'Cash - $20.01 - $40.00 - 4' 'Cash - $0.01 - $20.00 - 4'\n",
            " 'Medicare - Unknown - 4' 'Medicare - $0.01 - $20.00 - 2'\n",
            " 'Medicare - >$75 - 3' 'Medicare - >$75 - 1' 'Cash - $0.01 - $20.00 - 3'\n",
            " 'Cash - Unknown - 1' 'Government - $20.01 - $40.00 - 2'\n",
            " 'Medicare - $40.01 - $60.00 - 1' 'Medicare - $0.01 - $20.00 - 1'\n",
            " 'Medicare - $20.01 - $40.00 - 4' 'Medicaid - $0.01 - $20.00 - 2'\n",
            " 'Commercial - Unknown - 3' 'Medicare - $60.01 - $75.00 - 2'\n",
            " 'Medicaid - $60.01 - $75.00 - 4' 'Government - $0 - 2'\n",
            " 'Government - >$75 - 2' 'Medicaid - >$75 - 2'\n",
            " 'Medicare - $40.01 - $60.00 - 3' 'Medicare - Unknown - 3'\n",
            " 'Government - $0.01 - $20.00 - 4' 'Cash - $40.01 - $60.00 - 3'\n",
            " 'Medicaid - Unknown - 2' 'Government - $60.01 - $75.00 - 3'\n",
            " 'Cash - $40.01 - $60.00 - 4' 'Medicaid - $60.01 - $75.00 - 3'\n",
            " 'Government - $20.01 - $40.00 - 1' 'Medicaid - >$75 - 3'\n",
            " 'Government - $60.01 - $75.00 - 4' 'Medicaid - $0.01 - $20.00 - 3'\n",
            " 'Medicare - $60.01 - $75.00 - 1' 'Medicare - Unknown - 1'\n",
            " 'Medicare - Unknown - 2' 'Government - $20.01 - $40.00 - 4'\n",
            " 'Medicare - $40.01 - $60.00 - 4' 'Government - $0 - 4'\n",
            " 'Medicare - $40.01 - $60.00 - 2' 'Government - Unknown - 4'\n",
            " 'Medicaid - Unknown - 1' 'Cash - $40.01 - $60.00 - 1'\n",
            " 'Government - $20.01 - $40.00 - 3' 'Government - Unknown - 2'\n",
            " 'Medicaid - $60.01 - $75.00 - 1' 'Government - $0 - 3'\n",
            " 'Medicaid - Unknown - 3' 'Government - >$75 - 4' 'Government - >$75 - 1'\n",
            " 'Government - >$75 - 3' 'Medicaid - $40.01 - $60.00 - 3'\n",
            " 'Government - $0.01 - $20.00 - 2' 'Government - $0.01 - $20.00 - 3'\n",
            " 'Medicaid - >$75 - 1' 'Government - $60.01 - $75.00 - 1'\n",
            " 'Government - $60.01 - $75.00 - 2' 'Medicaid - Unknown - 4'\n",
            " 'Medicaid - $40.01 - $60.00 - 4' 'Government - Unknown - 1']\n"
          ]
        }
      ]
    },
    {
      "cell_type": "code",
      "source": [
        "#  print unique affordability from the segment_attributes table with comma and single quote in each\n",
        "\n",
        "affordability = segment_attributes['Affordability'].unique()\n",
        "print(\"Unique Affordability values: \", \", \".join(f\"'{item}'\" for item in affordability))\n"
      ],
      "metadata": {
        "colab": {
          "base_uri": "https://localhost:8080/",
          "height": 0
        },
        "id": "L9my-o_Ibjam",
        "outputId": "b77bc058-14c6-4e8b-ae75-99c5bfeec749"
      },
      "execution_count": 22,
      "outputs": [
        {
          "output_type": "stream",
          "name": "stdout",
          "text": [
            "Unique Affordability values:  'Medicaid - $0 - 3', 'Commercial - $0 - 4', 'Medicare - $0 - 4', 'Cash - $20.01 - $40.00 - 2', 'Commercial - $20.01 - $40.00 - 2', 'Commercial - $0 - 3', 'Commercial - $60.01 - $75.00 - 3', 'Commercial - $60.01 - $75.00 - 1', 'Commercial - $60.01 - $75.00 - 2', 'Commercial - >$75 - 4', 'Commercial - $60.01 - $75.00 - 4', 'Cash - $0 - 1', 'Medicaid - $0 - 2', 'Medicare - $0 - 1', 'Commercial - $0.01 - $20.00 - 2', 'Cash - >$75 - 3', 'Commercial - $20.01 - $40.00 - 4', 'Medicaid - $0 - 4', 'Cash - $0 - 2', 'Cash - >$75 - 2', 'Commercial - $20.01 - $40.00 - 1', 'Commercial - $0 - 2', 'Cash - >$75 - 1', 'Commercial - $40.01 - $60.00 - 3', 'Commercial - >$75 - 1', 'Cash - $60.01 - $75.00 - 2', 'Medicare - $20.01 - $40.00 - 3', 'Medicare - $0 - 2', 'Cash - >$75 - 4', 'Commercial - $0 - 1', 'Commercial - $20.01 - $40.00 - 3', 'Cash - Unknown - 4', 'Medicare - $20.01 - $40.00 - 2', 'Cash - $60.01 - $75.00 - 1', 'Medicare - $0.01 - $20.00 - 3', 'Commercial - >$75 - 2', 'Cash - $0 - 4', 'Commercial - $0.01 - $20.00 - 4', 'Medicare - $0 - 3', 'Commercial - $40.01 - $60.00 - 1', 'Cash - $20.01 - $40.00 - 1', 'Medicare - $0.01 - $20.00 - 4', 'Commercial - $0.01 - $20.00 - 1', 'Cash - $40.01 - $60.00 - 2', 'Commercial - >$75 - 3', 'Commercial - $40.01 - $60.00 - 4', 'Cash - $60.01 - $75.00 - 3', 'Commercial - $0.01 - $20.00 - 3', 'Commercial - Unknown - 1', 'Commercial - Unknown - 2', 'Medicaid - $20.01 - $40.00 - 3', 'Cash - Unknown - 3', 'Cash - $20.01 - $40.00 - 3', 'Medicare - >$75 - 4', 'Medicaid - $0.01 - $20.00 - 1', 'Cash - Unknown - 2', 'Commercial - Unknown - 4', 'Medicaid - $60.01 - $75.00 - 2', 'Medicaid - $20.01 - $40.00 - 1', 'Commercial - $40.01 - $60.00 - 2', 'Medicare - $60.01 - $75.00 - 4', 'Cash - $0.01 - $20.00 - 1', 'Medicaid - $0 - 1', 'Cash - $60.01 - $75.00 - 4', 'Medicaid - $20.01 - $40.00 - 4', 'Medicare - $20.01 - $40.00 - 1', 'Medicaid - $20.01 - $40.00 - 2', 'Medicare - >$75 - 2', 'Cash - $0 - 3', 'Medicare - $60.01 - $75.00 - 3', 'Cash - $0.01 - $20.00 - 2', 'Medicaid - >$75 - 4', 'Medicaid - $0.01 - $20.00 - 4', 'Cash - $20.01 - $40.00 - 4', 'Cash - $0.01 - $20.00 - 4', 'Medicare - Unknown - 4', 'Medicare - $0.01 - $20.00 - 2', 'Medicare - >$75 - 3', 'Medicare - >$75 - 1', 'Cash - $0.01 - $20.00 - 3', 'Cash - Unknown - 1', 'Government - $20.01 - $40.00 - 2', 'Medicare - $40.01 - $60.00 - 1', 'Medicare - $0.01 - $20.00 - 1', 'Medicare - $20.01 - $40.00 - 4', 'Medicaid - $0.01 - $20.00 - 2', 'Commercial - Unknown - 3', 'Medicare - $60.01 - $75.00 - 2', 'Medicaid - $60.01 - $75.00 - 4', 'Government - $0 - 2', 'Government - >$75 - 2', 'Medicaid - >$75 - 2', 'Medicare - $40.01 - $60.00 - 3', 'Medicare - Unknown - 3', 'Government - $0.01 - $20.00 - 4', 'Cash - $40.01 - $60.00 - 3', 'Medicaid - Unknown - 2', 'Government - $60.01 - $75.00 - 3', 'Cash - $40.01 - $60.00 - 4', 'Medicaid - $60.01 - $75.00 - 3', 'Government - $20.01 - $40.00 - 1', 'Medicaid - >$75 - 3', 'Government - $60.01 - $75.00 - 4', 'Medicaid - $0.01 - $20.00 - 3', 'Medicare - $60.01 - $75.00 - 1', 'Medicare - Unknown - 1', 'Medicare - Unknown - 2', 'Government - $20.01 - $40.00 - 4', 'Medicare - $40.01 - $60.00 - 4', 'Government - $0 - 4', 'Medicare - $40.01 - $60.00 - 2', 'Government - Unknown - 4', 'Medicaid - Unknown - 1', 'Cash - $40.01 - $60.00 - 1', 'Government - $20.01 - $40.00 - 3', 'Government - Unknown - 2', 'Medicaid - $60.01 - $75.00 - 1', 'Government - $0 - 3', 'Medicaid - Unknown - 3', 'Government - >$75 - 4', 'Government - >$75 - 1', 'Government - >$75 - 3', 'Medicaid - $40.01 - $60.00 - 3', 'Government - $0.01 - $20.00 - 2', 'Government - $0.01 - $20.00 - 3', 'Medicaid - >$75 - 1', 'Government - $60.01 - $75.00 - 1', 'Government - $60.01 - $75.00 - 2', 'Medicaid - Unknown - 4', 'Medicaid - $40.01 - $60.00 - 4', 'Government - Unknown - 1'\n"
          ]
        }
      ]
    },
    {
      "cell_type": "code",
      "source": [
        "# Unique affordability\n",
        "data = [\n",
        "   'Medicaid - $0 - 3', 'Commercial - $0 - 4', 'Medicare - $0 - 4', 'Cash - $20.01 - $40.00 - 2', 'Commercial - $20.01 - $40.00 - 2', 'Commercial - $0 - 3', 'Commercial - $60.01 - $75.00 - 3',\n",
        "   'Commercial - $60.01 - $75.00 - 1', 'Commercial - $60.01 - $75.00 - 2', 'Commercial - >$75 - 4', 'Commercial - $60.01 - $75.00 - 4', 'Cash - $0 - 1', 'Medicaid - $0 - 2', 'Medicare - $0 - 1',\n",
        "   'Commercial - $0.01 - $20.00 - 2', 'Cash - >$75 - 3', 'Commercial - $20.01 - $40.00 - 4', 'Medicaid - $0 - 4', 'Cash - $0 - 2', 'Cash - >$75 - 2', 'Commercial - $20.01 - $40.00 - 1',\n",
        "   'Commercial - $0 - 2', 'Cash - >$75 - 1', 'Commercial - $40.01 - $60.00 - 3', 'Commercial - >$75 - 1', 'Cash - $60.01 - $75.00 - 2', 'Medicare - $20.01 - $40.00 - 3', 'Medicare - $0 - 2',\n",
        "   'Cash - >$75 - 4', 'Commercial - $0 - 1', 'Commercial - $20.01 - $40.00 - 3', 'Cash - Unknown - 4', 'Medicare - $20.01 - $40.00 - 2', 'Cash - $60.01 - $75.00 - 1', 'Medicare - $0.01 - $20.00 - 3',\n",
        "   'Commercial - >$75 - 2', 'Cash - $0 - 4', 'Commercial - $0.01 - $20.00 - 4', 'Medicare - $0 - 3', 'Commercial - $40.01 - $60.00 - 1', 'Cash - $20.01 - $40.00 - 1', 'Medicare - $0.01 - $20.00 - 4',\n",
        "   'Commercial - $0.01 - $20.00 - 1', 'Cash - $40.01 - $60.00 - 2', 'Commercial - >$75 - 3', 'Commercial - $40.01 - $60.00 - 4', 'Cash - $60.01 - $75.00 - 3', 'Commercial - $0.01 - $20.00 - 3',\n",
        "   'Commercial - Unknown - 1', 'Commercial - Unknown - 2', 'Medicaid - $20.01 - $40.00 - 3', 'Cash - Unknown - 3', 'Cash - $20.01 - $40.00 - 3', 'Medicare - >$75 - 4', 'Medicaid - $0.01 - $20.00 - 1',\n",
        "   'Cash - Unknown - 2', 'Commercial - Unknown - 4', 'Medicaid - $60.01 - $75.00 - 2', 'Medicaid - $20.01 - $40.00 - 1', 'Commercial - $40.01 - $60.00 - 2', 'Medicare - $60.01 - $75.00 - 4', 'Cash - $0.01 - $20.00 - 1',\n",
        "   'Medicaid - $0 - 1', 'Cash - $60.01 - $75.00 - 4', 'Medicaid - $20.01 - $40.00 - 4', 'Medicare - $20.01 - $40.00 - 1', 'Medicaid - $20.01 - $40.00 - 2', 'Medicare - >$75 - 2', 'Cash - $0 - 3', 'Medicare - $60.01 - $75.00 - 3',\n",
        "   'Cash - $0.01 - $20.00 - 2', 'Medicaid - >$75 - 4', 'Medicaid - $0.01 - $20.00 - 4', 'Cash - $20.01 - $40.00 - 4', 'Cash - $0.01 - $20.00 - 4', 'Medicare - Unknown - 4', 'Medicare - $0.01 - $20.00 - 2', 'Medicare - >$75 - 3',\n",
        "   'Medicare - >$75 - 1', 'Cash - $0.01 - $20.00 - 3', 'Cash - Unknown - 1', 'Government - $20.01 - $40.00 - 2', 'Medicare - $40.01 - $60.00 - 1', 'Medicare - $0.01 - $20.00 - 1', 'Medicare - $20.01 - $40.00 - 4',\n",
        "   'Medicaid - $0.01 - $20.00 - 2', 'Commercial - Unknown - 3', 'Medicare - $60.01 - $75.00 - 2', 'Medicaid - $60.01 - $75.00 - 4', 'Government - $0 - 2', 'Government - >$75 - 2', 'Medicaid - >$75 - 2', 'Medicare - $40.01 - $60.00 - 3',\n",
        "   'Medicare - Unknown - 3', 'Government - $0.01 - $20.00 - 4', 'Cash - $40.01 - $60.00 - 3', 'Medicaid - Unknown - 2', 'Government - $60.01 - $75.00 - 3', 'Cash - $40.01 - $60.00 - 4', 'Medicaid - $60.01 - $75.00 - 3', 'Government - $20.01 - $40.00 - 1',\n",
        "   'Medicaid - >$75 - 3', 'Government - $60.01 - $75.00 - 4', 'Medicaid - $0.01 - $20.00 - 3', 'Medicare - $60.01 - $75.00 - 1', 'Medicare - Unknown - 1', 'Medicare - Unknown - 2', 'Government - $20.01 - $40.00 - 4', 'Medicare - $40.01 - $60.00 - 4', 'Government - $0 - 4',\n",
        "   'Medicare - $40.01 - $60.00 - 2', 'Government - Unknown - 4', 'Medicaid - Unknown - 1', 'Cash - $40.01 - $60.00 - 1', 'Government - $20.01 - $40.00 - 3', 'Government - Unknown - 2', 'Medicaid - $60.01 - $75.00 - 1', 'Government - $0 - 3', 'Medicaid - Unknown - 3',\n",
        "   'Government - >$75 - 4', 'Government - >$75 - 1', 'Government - >$75 - 3', 'Medicaid - $40.01 - $60.00 - 3', 'Government - $0.01 - $20.00 - 2', 'Government - $0.01 - $20.00 - 3',\n",
        "   'Medicaid - >$75 - 1', 'Government - $60.01 - $75.00 - 1', 'Government - $60.01 - $75.00 - 2', 'Medicaid - Unknown - 4', 'Medicaid - $40.01 - $60.00 - 4', 'Government - Unknown - 1'\n",
        "]\n",
        "\n",
        "# Split data into a DataFrame\n",
        "affordability = pd.DataFrame(data, columns=['Category_a'])\n",
        "affordability[['Who', 'Cost', 'HDI']] = affordability['Category_a'].str.split(' - ', n=2, expand=True)\n",
        "\n",
        "#Affordablity Rules: Base_Rank\n",
        "#Who is Paying: Medicaid? (4);  Medicare? (3) Government? (3);  Commercial? (2); Cash? (1) --> Govermenent supported payments are usually the most affordable and cash payments are the least.\n",
        "# Apply Cost Adjustment\n",
        "#Apply HDI Adjustment\n",
        "\n",
        "# Convert HDI column to numeric, setting errors to NaN\n",
        "affordability['HDI'] = pd.to_numeric(affordability['HDI'], errors='coerce')\n",
        "\n",
        "# Function to determine affordability rank\n",
        "def affordability_rank(row):\n",
        "    # Assign base rank based on 'Who' is paying\n",
        "    if row['Who'] == 'Medicaid':\n",
        "        base_rank = 4\n",
        "    elif row['Who'] in ['Medicare', 'Government']:\n",
        "        base_rank = 3\n",
        "    elif row['Who'] == 'Commercial':\n",
        "        base_rank = 2\n",
        "    else:  # 'Cash'\n",
        "        base_rank = 1\n",
        "\n",
        "    #Cost Adjustment Rules: See \"Resource Allocation Model\" for healthcare pricing. Criteria: Cost Effectiveness:\n",
        "    #Statistically cost is usually adjusted to give priorities to specific payment sources. E.g cost of capital for the Govt (Medicaid) is less expensive compared to that of an individual.\n",
        "    if row['Cost'] == '$0':\n",
        "        cost_adjustment = 1  # Highest affordability\n",
        "    elif row['Cost'] in ['$0.01 - $20.00', 'Unknown']:\n",
        "        cost_adjustment = 0.5\n",
        "    elif row['Cost'] == '$20.01 - $40.00':\n",
        "        cost_adjustment = -0.5\n",
        "    elif row['Cost'] in ['$40.01 - $60.00', '$60.01 - $75.00']:\n",
        "        cost_adjustment = -1\n",
        "    else:  # '> $75'\n",
        "        cost_adjustment = -1.5\n",
        "\n",
        "    # Handle NaN values in HDI by assuming a default value (e.g., 3)\n",
        "    hdi = row['HDI'] if pd.notna(row['HDI']) else 3  # Default HDI is 3 (neutral value)\n",
        "\n",
        "    # Final affordability score adjusted by cost and HDI rank- 0.25 groups it into quantile as we look to get 4 ranks.\n",
        "    affordability_score = base_rank + cost_adjustment - (4 - hdi) * 0.25\n",
        "\n",
        "    # Ensure the rank stays between 1 and 4\n",
        "    return max(1, min(round(affordability_score), 4))\n",
        "\n",
        "# Apply function to DataFrame\n",
        "affordability['Score_a'] = affordability.apply(affordability_rank, axis=1)\n",
        "\n",
        "# Show results\n",
        "print(affordability[['Category_a', 'Score_a']])\n"
      ],
      "metadata": {
        "colab": {
          "base_uri": "https://localhost:8080/",
          "height": 0
        },
        "id": "mSO83wByfM9g",
        "outputId": "f558b0bf-1a3f-457e-a78c-c7585dccfdef"
      },
      "execution_count": 23,
      "outputs": [
        {
          "output_type": "stream",
          "name": "stdout",
          "text": [
            "                           Category_a  Score_a\n",
            "0                   Medicaid - $0 - 3        4\n",
            "1                 Commercial - $0 - 4        3\n",
            "2                   Medicare - $0 - 4        4\n",
            "3          Cash - $20.01 - $40.00 - 2        1\n",
            "4    Commercial - $20.01 - $40.00 - 2        1\n",
            "..                                ...      ...\n",
            "126  Government - $60.01 - $75.00 - 1        1\n",
            "127  Government - $60.01 - $75.00 - 2        1\n",
            "128            Medicaid - Unknown - 4        4\n",
            "129    Medicaid - $40.01 - $60.00 - 4        2\n",
            "130          Government - Unknown - 1        3\n",
            "\n",
            "[131 rows x 2 columns]\n"
          ]
        }
      ]
    },
    {
      "cell_type": "code",
      "source": [
        "#For Utilization:\n",
        "\n",
        "# Step 1: Get unique values of Utilization\n",
        "utilization = segment_attributes['Utilization'].unique()\n",
        "print(\"Unique utilization values:\", utilization)\n",
        "\n",
        "# Define the categories and initial scores 1 least utilized 4 most utilized\n",
        "Category = [\n",
        "    'FSL2 - ENDO', 'FSL2 - Unknown', 'FSL2 - PCP', 'FSL14D - PCP',\n",
        "    'FSL14D - Unknown', 'FSL14D - ENDO', 'FSL14D - OB/GYN',\n",
        "    'FSL14D - ACUTE CARE', 'FSL14D - PEDIATRICS', 'FSL2 - PEDIATRICS',\n",
        "    'FSL2 - ACUTE CARE', 'FSL2 - OB/GYN', 'FSL3 - ENDO', 'FSL3 - PCP',\n",
        "    'FSL10D - PCP', 'FSL3 - Unknown', 'FSL3 - PEDIATRICS', 'FSL10D - Unknown'\n",
        "]\n",
        "\n",
        "# Dictionary for product features ranking: Based on product features & Qualities from Abbot Website\n",
        "feature_rank = {'FSL3': 4, 'FSL14D': 3, 'FSL2': 2, 'FSL10D': 1}\n",
        "\n",
        "# Dictionary for healthcare practitioner ranking: Based on Diabetes Care specialization\n",
        "hcp_rank = {'ENDO': 4, 'PEDIATRICS': 4, 'PCP': 3, 'ACUTE CARE': 3, 'OB/GYN': 2, 'Unknown': 1}\n",
        "\n",
        "# List to store the ranks\n",
        "rankings = []\n",
        "\n",
        "# Calculate ranks for each category\n",
        "for category in Category:\n",
        "    product, practitioner = category.split(' - ')\n",
        "    rank = (feature_rank[product] + hcp_rank[practitioner]) // 2  # Averaging the two rankings\n",
        "    rankings.append(rank)\n",
        "\n",
        "# Create a DataFrame\n",
        "utilization = pd.DataFrame({'Category_u': Category, 'Score_u': rankings})\n",
        "print(utilization)"
      ],
      "metadata": {
        "colab": {
          "base_uri": "https://localhost:8080/",
          "height": 0
        },
        "id": "y6KiaBHg6utl",
        "outputId": "36a67c57-6ea5-459c-d604-aea568594f97"
      },
      "execution_count": 24,
      "outputs": [
        {
          "output_type": "stream",
          "name": "stdout",
          "text": [
            "Unique utilization values: ['FSL2 - ENDO' 'FSL2 - Unknown' 'FSL2 - PCP' 'FSL14D - PCP'\n",
            " 'FSL14D - Unknown' 'FSL14D - ENDO' 'FSL14D - OB/GYN'\n",
            " 'FSL14D - ACUTE CARE' 'FSL14D - PEDIATRICS' 'FSL2 - PEDIATRICS'\n",
            " 'FSL2 - ACUTE CARE' 'FSL2 - OB/GYN' 'FSL3 - ENDO' 'FSL3 - PCP'\n",
            " 'FSL10D - PCP' 'FSL3 - Unknown' 'FSL3 - PEDIATRICS' 'FSL10D - Unknown']\n",
            "             Category_u  Score_u\n",
            "0           FSL2 - ENDO        3\n",
            "1        FSL2 - Unknown        1\n",
            "2            FSL2 - PCP        2\n",
            "3          FSL14D - PCP        3\n",
            "4      FSL14D - Unknown        2\n",
            "5         FSL14D - ENDO        3\n",
            "6       FSL14D - OB/GYN        2\n",
            "7   FSL14D - ACUTE CARE        3\n",
            "8   FSL14D - PEDIATRICS        3\n",
            "9     FSL2 - PEDIATRICS        3\n",
            "10    FSL2 - ACUTE CARE        2\n",
            "11        FSL2 - OB/GYN        2\n",
            "12          FSL3 - ENDO        4\n",
            "13           FSL3 - PCP        3\n",
            "14         FSL10D - PCP        2\n",
            "15       FSL3 - Unknown        2\n",
            "16    FSL3 - PEDIATRICS        4\n",
            "17     FSL10D - Unknown        1\n"
          ]
        }
      ]
    },
    {
      "cell_type": "markdown",
      "source": [],
      "metadata": {
        "id": "gIhAkhdopCj0"
      }
    },
    {
      "cell_type": "code",
      "source": [
        "#  join the following dataframe  profitability,affordability,severity to segment_attributes table. the unique column is Category in each dataframe and the column in segment_attributes are Profitability, Affordability and Severity Column\n",
        "\n",
        "# Merge the DataFrames\n",
        "segment_attributes = segment_attributes.merge(affordability, left_on='Affordability', right_on='Category_a', how='left')\n",
        "segment_attributes = segment_attributes.merge(severity, left_on='Severity', right_on='Category_s', how='left')\n",
        "segment_attributes =  segment_attributes.merge(utilization,left_on='Utilization', right_on='Category_u', how='left')\n",
        "\n",
        "# Rename the score columns\n",
        "segment_attributes = segment_attributes.rename(columns={'Score_u': 'Utilization_Score', 'Score_a': 'Affordability_Score', 'Score_s': 'Severity_Score','HDI_x':'HDI'})\n",
        "\n",
        "# Drop the redundant 'Category' columns\n",
        "segment_attributes = segment_attributes.drop(['Category_u', 'Category_a', 'Category_s','HDI_y','Who','Cost' ], axis=1)\n",
        "\n",
        "# Display the updated DataFrame\n",
        "print(segment_attributes.head())\n"
      ],
      "metadata": {
        "colab": {
          "base_uri": "https://localhost:8080/",
          "height": 0
        },
        "id": "Sg2bVYOTe1xr",
        "outputId": "9bdf304d-94dd-4646-b34c-083e798179ac"
      },
      "execution_count": 25,
      "outputs": [
        {
          "output_type": "stream",
          "name": "stdout",
          "text": [
            "   Patient_ID Diabetes_Type Patient_Segment NBRx_Product HCP_Specialty_Group  \\\n",
            "0    85549654            T2          MDI/PP         FSL2                ENDO   \n",
            "1    85550109            T2          MDI/PP         FSL2             Unknown   \n",
            "2    85552099            T2         Non-IUP         FSL2                 PCP   \n",
            "3    85556738            T2         Non-IUP         FSL2                 PCP   \n",
            "4    85565307            T2         Non-IUP         FSL2                ENDO   \n",
            "\n",
            "  HCP_State Payer_Group    1M_OOP_Bucket  Active_Flag State    HDI HDI_Rank  \\\n",
            "0        IL    Medicaid               $0            1    IL  0.935        3   \n",
            "1        WA    Medicaid               $0            0    WA  0.936        3   \n",
            "2        NY  Commercial               $0            0    NY  0.946        4   \n",
            "3        NY    Medicare               $0            0    NY  0.946        4   \n",
            "4        FL        Cash  $20.01 - $40.00            0    FL  0.917        2   \n",
            "\n",
            "       Severity     Utilization               Affordability  \\\n",
            "0   MDI/PP - T2     FSL2 - ENDO           Medicaid - $0 - 3   \n",
            "1   MDI/PP - T2  FSL2 - Unknown           Medicaid - $0 - 3   \n",
            "2  Non-IUP - T2      FSL2 - PCP         Commercial - $0 - 4   \n",
            "3  Non-IUP - T2      FSL2 - PCP           Medicare - $0 - 4   \n",
            "4  Non-IUP - T2     FSL2 - ENDO  Cash - $20.01 - $40.00 - 2   \n",
            "\n",
            "   Affordability_Score  Severity_Score  Utilization_Score  \n",
            "0                    4               2                  3  \n",
            "1                    4               2                  1  \n",
            "2                    3               4                  2  \n",
            "3                    4               4                  2  \n",
            "4                    1               4                  3  \n"
          ]
        }
      ]
    },
    {
      "cell_type": "code",
      "source": [
        "#  make the score column to string without decimal point\n",
        "segment_attributes['Utilization_Score'] = segment_attributes['Utilization_Score'].astype(int).astype(str)\n",
        "segment_attributes['Affordability_Score'] = segment_attributes['Affordability_Score'].astype(int).astype(str)\n",
        "segment_attributes['Severity_Score'] = segment_attributes['Severity_Score'].astype(int).astype(str)\n",
        "\n",
        "segment_attributes['SAUT_Score'] = segment_attributes['Severity_Score'] + segment_attributes['Affordability_Score'] + segment_attributes['Utilization_Score']"
      ],
      "metadata": {
        "id": "tfoMWh91pxo7"
      },
      "execution_count": null,
      "outputs": []
    },
    {
      "cell_type": "code",
      "source": [
        "#@title Patient Segmentation Analysis"
      ],
      "metadata": {
        "id": "4rJ3AprMHGTf"
      },
      "execution_count": null,
      "outputs": []
    },
    {
      "cell_type": "code",
      "source": [
        "segment_attributes['SAUT_Score'].unique()"
      ],
      "metadata": {
        "colab": {
          "base_uri": "https://localhost:8080/"
        },
        "id": "ow--Pkbpn4U1",
        "outputId": "23057619-b9c5-4361-ee00-67c6f2322b70"
      },
      "execution_count": null,
      "outputs": [
        {
          "output_type": "execute_result",
          "data": {
            "text/plain": [
              "array(['243', '241', '432', '442', '413', '412', '312', '213', '212',\n",
              "       '242', '443', '313', '233', '342', '223', '113', '311', '323',\n",
              "       '423', '332', '143', '112', '433', '222', '232', '422', '221',\n",
              "       '411', '123', '343', '132', '142', '111', '322', '321', '421',\n",
              "       '341', '211', '431', '333', '122', '441', '133', '231', '121',\n",
              "       '331', '141', '424', '131', '434', '214', '414', '114', '444'],\n",
              "      dtype=object)"
            ]
          },
          "metadata": {},
          "execution_count": 102
        }
      ]
    },
    {
      "cell_type": "code",
      "source": [
        "# Convert the Score column to integers if necessary\n",
        "segment_attributes['SAUT_Score'] = segment_attributes['SAUT_Score'].astype(int)\n",
        "\n",
        "# A. Define conditions and corresponding segment names\n",
        "conditions = [\n",
        "    (segment_attributes['SAUT_Score'].isin([443,433,444,434])),  # Champions\n",
        "    (segment_attributes['SAUT_Score'].isin([212,112,213,113,214,114,413,313,414])),  # Loyal_users\n",
        "    (segment_attributes['SAUT_Score'].isin([232,332,432,242,342,442])),  # Potential_loyalist\n",
        "    (segment_attributes['SAUT_Score'].isin([223,323,423,424,243,233])),  # Promising\n",
        "    (segment_attributes['SAUT_Score'].isin([412,312,422,322,222,321,421])),  # At_Risk\n",
        "    (segment_attributes['SAUT_Score'].isin([111,121,122,211,221])),  # Needing_attention\n",
        "    (segment_attributes['SAUT_Score'].isin([431,331,441,341,131,141,411,311,241,231])),  # Hibernating\n",
        "    (segment_attributes['SAUT_Score'].isin([133,143,142,132,333,343,123]))  # Users_We_Cannot_Lose\n",
        "]\n",
        "\n",
        "#s -low 4,3 medium 2, high 1\n",
        "#a,u- low 1, medium 2 ,high 3,4\n",
        "\n",
        "# B. Corresponding segment names\n",
        "choices = [\n",
        "    \"Champions\",  # 444: Low Severity, High Affordability, High Utilization\n",
        "    \"Loyal_users\",  # Medium to High Severity, Low Affordability, Medium to High Utilization\n",
        "    \"Potential_loyalist\",  # Medium to Low Severity, High Affordability, Medium Utilization\n",
        "    \"Promising\",  # Medium to Low Severity, Medium to high Affordability, High Utilization\n",
        "    \"At_Risk\",  # Medium to Low Severity, Medium to low Affordability, medium to low Utilization\n",
        "    \"Needing_attention\",  # Medium to High Severity, medium to Low Affordability, medium to Low Utilization\n",
        "    \"Hibernating\",  # Low/High Severity, High Affordability, Low Utilization\n",
        "    \"Users_We_Cannot_Lose\"  # low/High Severity, medium to high Affordability, medium to High Utilization\n",
        "]\n",
        "\n",
        "\n",
        "# Apply the conditions to assign the segment names\n",
        "segment_attributes['Segment'] = np.select(conditions, choices, default='UN')\n",
        "\n",
        "# Print or inspect the resulting segments\n",
        "print(segment_attributes[['SAUT_Score', 'Segment']].head())\n"
      ],
      "metadata": {
        "id": "cCZdITysffFh",
        "colab": {
          "base_uri": "https://localhost:8080/"
        },
        "outputId": "f8943cc4-faf4-4493-8b0a-4df7e38d898d"
      },
      "execution_count": null,
      "outputs": [
        {
          "output_type": "stream",
          "name": "stdout",
          "text": [
            "   SAUT_Score             Segment\n",
            "0         243           Promising\n",
            "1         241         Hibernating\n",
            "2         432  Potential_loyalist\n",
            "3         442  Potential_loyalist\n",
            "4         413         Loyal_users\n"
          ]
        }
      ]
    },
    {
      "cell_type": "code",
      "source": [
        "print(segment_attributes['SAUT_Score'].unique())"
      ],
      "metadata": {
        "colab": {
          "base_uri": "https://localhost:8080/"
        },
        "id": "lk4ywrYviHrd",
        "outputId": "5d298154-89f7-4672-cfc3-37b8681c59f5"
      },
      "execution_count": null,
      "outputs": [
        {
          "output_type": "stream",
          "name": "stdout",
          "text": [
            "[243 241 432 442 413 412 312 213 212 242 443 313 233 342 223 113 311 323\n",
            " 423 332 143 112 433 222 232 422 221 411 123 343 132 142 111 322 321 421\n",
            " 341 211 431 333 122 441 133 231 121 331 141 424 131 434 214 414 114 444]\n"
          ]
        }
      ]
    },
    {
      "cell_type": "code",
      "source": [
        "#  show the number of active_flag by Segment\n",
        "\n",
        "# Calculate the count of Active_Flag by Segment\n",
        "segment_counts = segment_attributes.groupby(['Segment', 'Active_Flag'])['Active_Flag'].count().unstack().fillna(0)\n",
        "\n",
        "# Calculate the total count for each segment\n",
        "segment_counts['Total'] = segment_counts[0] + segment_counts[1]\n",
        "\n",
        "# Calculate the percentage contribution of each Active_Flag within each segment\n",
        "segment_counts['Percentage_0'] = (segment_counts[0] / segment_counts['Total']) * 100\n",
        "segment_counts['Percentage_1'] = (segment_counts[1] / segment_counts['Total']) * 100\n",
        "\n",
        "# Reset the index to make 'Segment' a column\n",
        "segment_counts = segment_counts.reset_index()\n",
        "\n",
        "# Rename columns for clarity\n",
        "segment_counts = segment_counts.rename(columns={0: 'Inactive_Count', 1: 'Active_Count'})\n",
        "\n",
        "# Display the table\n",
        "print(segment_counts)\n",
        "\n",
        "# Plotting the graph\n",
        "fig = go.Figure()\n",
        "\n",
        "# Add bars for Active_Flag = 0\n",
        "fig.add_trace(go.Bar(\n",
        "    x=segment_counts['Segment'],\n",
        "    y=segment_counts['Inactive_Count'],\n",
        "    name='Inactive',\n",
        "    text=segment_counts['Percentage_0'].round(2).astype(str) + '%',\n",
        "    textposition='auto'\n",
        "))\n",
        "\n",
        "# Add bars for Active_Flag = 1\n",
        "fig.add_trace(go.Bar(\n",
        "    x=segment_counts['Segment'],\n",
        "    y=segment_counts['Active_Count'],\n",
        "    name='Active',\n",
        "    text=segment_counts['Percentage_1'].round(2).astype(str) + '%',\n",
        "    textposition='auto'\n",
        "))\n",
        "\n",
        "# Update layout for better visualization\n",
        "fig.update_layout(\n",
        "    title='Distribution of Active Flag by Segment',\n",
        "    xaxis_title='Segment',\n",
        "    yaxis_title='Count',\n",
        "    barmode='group'\n",
        ")\n",
        "\n",
        "# Show plot\n",
        "fig.show()\n"
      ],
      "metadata": {
        "colab": {
          "base_uri": "https://localhost:8080/",
          "height": 872
        },
        "id": "6dz0Fi_GhpmU",
        "outputId": "4fea4a54-b0d5-4d8f-a2a0-3e203c0cc924"
      },
      "execution_count": null,
      "outputs": [
        {
          "output_type": "stream",
          "name": "stdout",
          "text": [
            "Active_Flag               Segment  Inactive_Count  Active_Count  Total  \\\n",
            "0                         At_Risk           11699          5255  16954   \n",
            "1                       Champions             810           586   1396   \n",
            "2                     Hibernating            1990           721   2711   \n",
            "3                     Loyal_users           12014          7586  19600   \n",
            "4               Needing_attention             291           188    479   \n",
            "5              Potential_loyalist            3172          2652   5824   \n",
            "6                       Promising            2138          1802   3940   \n",
            "7            Users_We_Cannot_Lose            1021           893   1914   \n",
            "\n",
            "Active_Flag  Percentage_0  Percentage_1  \n",
            "0               69.004365     30.995635  \n",
            "1               58.022923     41.977077  \n",
            "2               73.404648     26.595352  \n",
            "3               61.295918     38.704082  \n",
            "4               60.751566     39.248434  \n",
            "5               54.464286     45.535714  \n",
            "6               54.263959     45.736041  \n",
            "7               53.343783     46.656217  \n"
          ]
        },
        {
          "output_type": "display_data",
          "data": {
            "text/html": [
              "<html>\n",
              "<head><meta charset=\"utf-8\" /></head>\n",
              "<body>\n",
              "    <div>            <script src=\"https://cdnjs.cloudflare.com/ajax/libs/mathjax/2.7.5/MathJax.js?config=TeX-AMS-MML_SVG\"></script><script type=\"text/javascript\">if (window.MathJax && window.MathJax.Hub && window.MathJax.Hub.Config) {window.MathJax.Hub.Config({SVG: {font: \"STIX-Web\"}});}</script>                <script type=\"text/javascript\">window.PlotlyConfig = {MathJaxConfig: 'local'};</script>\n",
              "        <script charset=\"utf-8\" src=\"https://cdn.plot.ly/plotly-2.24.1.min.js\"></script>                <div id=\"9e4d2962-9872-433b-abd3-550786e5d0c6\" class=\"plotly-graph-div\" style=\"height:525px; width:100%;\"></div>            <script type=\"text/javascript\">                                    window.PLOTLYENV=window.PLOTLYENV || {};                                    if (document.getElementById(\"9e4d2962-9872-433b-abd3-550786e5d0c6\")) {                    Plotly.newPlot(                        \"9e4d2962-9872-433b-abd3-550786e5d0c6\",                        [{\"name\":\"Inactive\",\"text\":[\"69.0%\",\"58.02%\",\"73.4%\",\"61.3%\",\"60.75%\",\"54.46%\",\"54.26%\",\"53.34%\"],\"textposition\":\"auto\",\"x\":[\"At_Risk\",\"Champions\",\"Hibernating\",\"Loyal_users\",\"Needing_attention\",\"Potential_loyalist\",\"Promising\",\"Users_We_Cannot_Lose\"],\"y\":[11699,810,1990,12014,291,3172,2138,1021],\"type\":\"bar\"},{\"name\":\"Active\",\"text\":[\"31.0%\",\"41.98%\",\"26.6%\",\"38.7%\",\"39.25%\",\"45.54%\",\"45.74%\",\"46.66%\"],\"textposition\":\"auto\",\"x\":[\"At_Risk\",\"Champions\",\"Hibernating\",\"Loyal_users\",\"Needing_attention\",\"Potential_loyalist\",\"Promising\",\"Users_We_Cannot_Lose\"],\"y\":[5255,586,721,7586,188,2652,1802,893],\"type\":\"bar\"}],                        {\"template\":{\"data\":{\"histogram2dcontour\":[{\"type\":\"histogram2dcontour\",\"colorbar\":{\"outlinewidth\":0,\"ticks\":\"\"},\"colorscale\":[[0.0,\"#0d0887\"],[0.1111111111111111,\"#46039f\"],[0.2222222222222222,\"#7201a8\"],[0.3333333333333333,\"#9c179e\"],[0.4444444444444444,\"#bd3786\"],[0.5555555555555556,\"#d8576b\"],[0.6666666666666666,\"#ed7953\"],[0.7777777777777778,\"#fb9f3a\"],[0.8888888888888888,\"#fdca26\"],[1.0,\"#f0f921\"]]}],\"choropleth\":[{\"type\":\"choropleth\",\"colorbar\":{\"outlinewidth\":0,\"ticks\":\"\"}}],\"histogram2d\":[{\"type\":\"histogram2d\",\"colorbar\":{\"outlinewidth\":0,\"ticks\":\"\"},\"colorscale\":[[0.0,\"#0d0887\"],[0.1111111111111111,\"#46039f\"],[0.2222222222222222,\"#7201a8\"],[0.3333333333333333,\"#9c179e\"],[0.4444444444444444,\"#bd3786\"],[0.5555555555555556,\"#d8576b\"],[0.6666666666666666,\"#ed7953\"],[0.7777777777777778,\"#fb9f3a\"],[0.8888888888888888,\"#fdca26\"],[1.0,\"#f0f921\"]]}],\"heatmap\":[{\"type\":\"heatmap\",\"colorbar\":{\"outlinewidth\":0,\"ticks\":\"\"},\"colorscale\":[[0.0,\"#0d0887\"],[0.1111111111111111,\"#46039f\"],[0.2222222222222222,\"#7201a8\"],[0.3333333333333333,\"#9c179e\"],[0.4444444444444444,\"#bd3786\"],[0.5555555555555556,\"#d8576b\"],[0.6666666666666666,\"#ed7953\"],[0.7777777777777778,\"#fb9f3a\"],[0.8888888888888888,\"#fdca26\"],[1.0,\"#f0f921\"]]}],\"heatmapgl\":[{\"type\":\"heatmapgl\",\"colorbar\":{\"outlinewidth\":0,\"ticks\":\"\"},\"colorscale\":[[0.0,\"#0d0887\"],[0.1111111111111111,\"#46039f\"],[0.2222222222222222,\"#7201a8\"],[0.3333333333333333,\"#9c179e\"],[0.4444444444444444,\"#bd3786\"],[0.5555555555555556,\"#d8576b\"],[0.6666666666666666,\"#ed7953\"],[0.7777777777777778,\"#fb9f3a\"],[0.8888888888888888,\"#fdca26\"],[1.0,\"#f0f921\"]]}],\"contourcarpet\":[{\"type\":\"contourcarpet\",\"colorbar\":{\"outlinewidth\":0,\"ticks\":\"\"}}],\"contour\":[{\"type\":\"contour\",\"colorbar\":{\"outlinewidth\":0,\"ticks\":\"\"},\"colorscale\":[[0.0,\"#0d0887\"],[0.1111111111111111,\"#46039f\"],[0.2222222222222222,\"#7201a8\"],[0.3333333333333333,\"#9c179e\"],[0.4444444444444444,\"#bd3786\"],[0.5555555555555556,\"#d8576b\"],[0.6666666666666666,\"#ed7953\"],[0.7777777777777778,\"#fb9f3a\"],[0.8888888888888888,\"#fdca26\"],[1.0,\"#f0f921\"]]}],\"surface\":[{\"type\":\"surface\",\"colorbar\":{\"outlinewidth\":0,\"ticks\":\"\"},\"colorscale\":[[0.0,\"#0d0887\"],[0.1111111111111111,\"#46039f\"],[0.2222222222222222,\"#7201a8\"],[0.3333333333333333,\"#9c179e\"],[0.4444444444444444,\"#bd3786\"],[0.5555555555555556,\"#d8576b\"],[0.6666666666666666,\"#ed7953\"],[0.7777777777777778,\"#fb9f3a\"],[0.8888888888888888,\"#fdca26\"],[1.0,\"#f0f921\"]]}],\"mesh3d\":[{\"type\":\"mesh3d\",\"colorbar\":{\"outlinewidth\":0,\"ticks\":\"\"}}],\"scatter\":[{\"fillpattern\":{\"fillmode\":\"overlay\",\"size\":10,\"solidity\":0.2},\"type\":\"scatter\"}],\"parcoords\":[{\"type\":\"parcoords\",\"line\":{\"colorbar\":{\"outlinewidth\":0,\"ticks\":\"\"}}}],\"scatterpolargl\":[{\"type\":\"scatterpolargl\",\"marker\":{\"colorbar\":{\"outlinewidth\":0,\"ticks\":\"\"}}}],\"bar\":[{\"error_x\":{\"color\":\"#2a3f5f\"},\"error_y\":{\"color\":\"#2a3f5f\"},\"marker\":{\"line\":{\"color\":\"#E5ECF6\",\"width\":0.5},\"pattern\":{\"fillmode\":\"overlay\",\"size\":10,\"solidity\":0.2}},\"type\":\"bar\"}],\"scattergeo\":[{\"type\":\"scattergeo\",\"marker\":{\"colorbar\":{\"outlinewidth\":0,\"ticks\":\"\"}}}],\"scatterpolar\":[{\"type\":\"scatterpolar\",\"marker\":{\"colorbar\":{\"outlinewidth\":0,\"ticks\":\"\"}}}],\"histogram\":[{\"marker\":{\"pattern\":{\"fillmode\":\"overlay\",\"size\":10,\"solidity\":0.2}},\"type\":\"histogram\"}],\"scattergl\":[{\"type\":\"scattergl\",\"marker\":{\"colorbar\":{\"outlinewidth\":0,\"ticks\":\"\"}}}],\"scatter3d\":[{\"type\":\"scatter3d\",\"line\":{\"colorbar\":{\"outlinewidth\":0,\"ticks\":\"\"}},\"marker\":{\"colorbar\":{\"outlinewidth\":0,\"ticks\":\"\"}}}],\"scattermapbox\":[{\"type\":\"scattermapbox\",\"marker\":{\"colorbar\":{\"outlinewidth\":0,\"ticks\":\"\"}}}],\"scatterternary\":[{\"type\":\"scatterternary\",\"marker\":{\"colorbar\":{\"outlinewidth\":0,\"ticks\":\"\"}}}],\"scattercarpet\":[{\"type\":\"scattercarpet\",\"marker\":{\"colorbar\":{\"outlinewidth\":0,\"ticks\":\"\"}}}],\"carpet\":[{\"aaxis\":{\"endlinecolor\":\"#2a3f5f\",\"gridcolor\":\"white\",\"linecolor\":\"white\",\"minorgridcolor\":\"white\",\"startlinecolor\":\"#2a3f5f\"},\"baxis\":{\"endlinecolor\":\"#2a3f5f\",\"gridcolor\":\"white\",\"linecolor\":\"white\",\"minorgridcolor\":\"white\",\"startlinecolor\":\"#2a3f5f\"},\"type\":\"carpet\"}],\"table\":[{\"cells\":{\"fill\":{\"color\":\"#EBF0F8\"},\"line\":{\"color\":\"white\"}},\"header\":{\"fill\":{\"color\":\"#C8D4E3\"},\"line\":{\"color\":\"white\"}},\"type\":\"table\"}],\"barpolar\":[{\"marker\":{\"line\":{\"color\":\"#E5ECF6\",\"width\":0.5},\"pattern\":{\"fillmode\":\"overlay\",\"size\":10,\"solidity\":0.2}},\"type\":\"barpolar\"}],\"pie\":[{\"automargin\":true,\"type\":\"pie\"}]},\"layout\":{\"autotypenumbers\":\"strict\",\"colorway\":[\"#636efa\",\"#EF553B\",\"#00cc96\",\"#ab63fa\",\"#FFA15A\",\"#19d3f3\",\"#FF6692\",\"#B6E880\",\"#FF97FF\",\"#FECB52\"],\"font\":{\"color\":\"#2a3f5f\"},\"hovermode\":\"closest\",\"hoverlabel\":{\"align\":\"left\"},\"paper_bgcolor\":\"white\",\"plot_bgcolor\":\"#E5ECF6\",\"polar\":{\"bgcolor\":\"#E5ECF6\",\"angularaxis\":{\"gridcolor\":\"white\",\"linecolor\":\"white\",\"ticks\":\"\"},\"radialaxis\":{\"gridcolor\":\"white\",\"linecolor\":\"white\",\"ticks\":\"\"}},\"ternary\":{\"bgcolor\":\"#E5ECF6\",\"aaxis\":{\"gridcolor\":\"white\",\"linecolor\":\"white\",\"ticks\":\"\"},\"baxis\":{\"gridcolor\":\"white\",\"linecolor\":\"white\",\"ticks\":\"\"},\"caxis\":{\"gridcolor\":\"white\",\"linecolor\":\"white\",\"ticks\":\"\"}},\"coloraxis\":{\"colorbar\":{\"outlinewidth\":0,\"ticks\":\"\"}},\"colorscale\":{\"sequential\":[[0.0,\"#0d0887\"],[0.1111111111111111,\"#46039f\"],[0.2222222222222222,\"#7201a8\"],[0.3333333333333333,\"#9c179e\"],[0.4444444444444444,\"#bd3786\"],[0.5555555555555556,\"#d8576b\"],[0.6666666666666666,\"#ed7953\"],[0.7777777777777778,\"#fb9f3a\"],[0.8888888888888888,\"#fdca26\"],[1.0,\"#f0f921\"]],\"sequentialminus\":[[0.0,\"#0d0887\"],[0.1111111111111111,\"#46039f\"],[0.2222222222222222,\"#7201a8\"],[0.3333333333333333,\"#9c179e\"],[0.4444444444444444,\"#bd3786\"],[0.5555555555555556,\"#d8576b\"],[0.6666666666666666,\"#ed7953\"],[0.7777777777777778,\"#fb9f3a\"],[0.8888888888888888,\"#fdca26\"],[1.0,\"#f0f921\"]],\"diverging\":[[0,\"#8e0152\"],[0.1,\"#c51b7d\"],[0.2,\"#de77ae\"],[0.3,\"#f1b6da\"],[0.4,\"#fde0ef\"],[0.5,\"#f7f7f7\"],[0.6,\"#e6f5d0\"],[0.7,\"#b8e186\"],[0.8,\"#7fbc41\"],[0.9,\"#4d9221\"],[1,\"#276419\"]]},\"xaxis\":{\"gridcolor\":\"white\",\"linecolor\":\"white\",\"ticks\":\"\",\"title\":{\"standoff\":15},\"zerolinecolor\":\"white\",\"automargin\":true,\"zerolinewidth\":2},\"yaxis\":{\"gridcolor\":\"white\",\"linecolor\":\"white\",\"ticks\":\"\",\"title\":{\"standoff\":15},\"zerolinecolor\":\"white\",\"automargin\":true,\"zerolinewidth\":2},\"scene\":{\"xaxis\":{\"backgroundcolor\":\"#E5ECF6\",\"gridcolor\":\"white\",\"linecolor\":\"white\",\"showbackground\":true,\"ticks\":\"\",\"zerolinecolor\":\"white\",\"gridwidth\":2},\"yaxis\":{\"backgroundcolor\":\"#E5ECF6\",\"gridcolor\":\"white\",\"linecolor\":\"white\",\"showbackground\":true,\"ticks\":\"\",\"zerolinecolor\":\"white\",\"gridwidth\":2},\"zaxis\":{\"backgroundcolor\":\"#E5ECF6\",\"gridcolor\":\"white\",\"linecolor\":\"white\",\"showbackground\":true,\"ticks\":\"\",\"zerolinecolor\":\"white\",\"gridwidth\":2}},\"shapedefaults\":{\"line\":{\"color\":\"#2a3f5f\"}},\"annotationdefaults\":{\"arrowcolor\":\"#2a3f5f\",\"arrowhead\":0,\"arrowwidth\":1},\"geo\":{\"bgcolor\":\"white\",\"landcolor\":\"#E5ECF6\",\"subunitcolor\":\"white\",\"showland\":true,\"showlakes\":true,\"lakecolor\":\"white\"},\"title\":{\"x\":0.05},\"mapbox\":{\"style\":\"light\"}}},\"title\":{\"text\":\"Distribution of Active Flag by Segment\"},\"xaxis\":{\"title\":{\"text\":\"Segment\"}},\"yaxis\":{\"title\":{\"text\":\"Count\"}},\"barmode\":\"group\"},                        {\"responsive\": true}                    ).then(function(){\n",
              "                            \n",
              "var gd = document.getElementById('9e4d2962-9872-433b-abd3-550786e5d0c6');\n",
              "var x = new MutationObserver(function (mutations, observer) {{\n",
              "        var display = window.getComputedStyle(gd).display;\n",
              "        if (!display || display === 'none') {{\n",
              "            console.log([gd, 'removed!']);\n",
              "            Plotly.purge(gd);\n",
              "            observer.disconnect();\n",
              "        }}\n",
              "}});\n",
              "\n",
              "// Listen for the removal of the full notebook cells\n",
              "var notebookContainer = gd.closest('#notebook-container');\n",
              "if (notebookContainer) {{\n",
              "    x.observe(notebookContainer, {childList: true});\n",
              "}}\n",
              "\n",
              "// Listen for the clearing of the current output cell\n",
              "var outputEl = gd.closest('.output');\n",
              "if (outputEl) {{\n",
              "    x.observe(outputEl, {childList: true});\n",
              "}}\n",
              "\n",
              "                        })                };                            </script>        </div>\n",
              "</body>\n",
              "</html>"
            ]
          },
          "metadata": {}
        }
      ]
    },
    {
      "cell_type": "markdown",
      "source": [
        "Checking ANOVA of Scoring Attributes"
      ],
      "metadata": {
        "id": "2ycBIaYmTprq"
      }
    },
    {
      "cell_type": "code",
      "source": [
        "#  Check the Analysis of Variance between each columns on active_flag and exclude some columns\n",
        "\n",
        "def check_aov(df, target_col, exclude_cols):\n",
        "  \"\"\"\n",
        "  Performs ANOVA test for each column in the DataFrame against the target column,\n",
        "  excluding specified columns.\n",
        "\n",
        "  Args:\n",
        "    df: The pandas DataFrame.\n",
        "    target_col: The name of the target column.\n",
        "    exclude_cols: A list of column names to exclude from the analysis.\n",
        "\n",
        "  Returns:\n",
        "    None. Prints the results of the ANOVA tests.\n",
        "  \"\"\"\n",
        "  for column in df.columns:\n",
        "    if column != target_col and column not in exclude_cols:\n",
        "      groups = df[column].unique()\n",
        "      group_data = [df[df[column] == group][target_col] for group in groups]\n",
        "      fvalue, pvalue = stats.f_oneway(*group_data)\n",
        "      print(f\"ANOVA for {column} vs {target_col}: F-value = {fvalue:.2f}, p-value = {pvalue:.3f}\")\n",
        "\n",
        "# Call the function\n",
        "exclude_columns = ['SAUT_Score', 'Segment','Patient_ID']\n",
        "check_aov(segment_attributes, 'Active_Flag', exclude_columns)"
      ],
      "metadata": {
        "id": "bQtNToiSg34Q"
      },
      "execution_count": null,
      "outputs": []
    },
    {
      "cell_type": "markdown",
      "source": [
        "Discussions:\n",
        "\n",
        "Why are Patients Active or Inactive After One Year?\n",
        "\n",
        "* What are the different reasons these patients are active or inactive after 1 year?  \n",
        "\n",
        "What Triggers & Interventions\n",
        "* What can Abbott do differently to mitigate this and increase retention?\n"
      ],
      "metadata": {
        "id": "2WP7dZOCn4Nv"
      }
    },
    {
      "cell_type": "code",
      "source": [
        "#@title K-Means Clustering\n",
        "\n",
        "segment_attributes.info()"
      ],
      "metadata": {
        "colab": {
          "base_uri": "https://localhost:8080/"
        },
        "id": "Hvqbph5C07qI",
        "outputId": "b1f31928-ea84-4c4d-c81a-95d53e3d5423"
      },
      "execution_count": null,
      "outputs": [
        {
          "output_type": "stream",
          "name": "stdout",
          "text": [
            "<class 'pandas.core.frame.DataFrame'>\n",
            "RangeIndex: 52818 entries, 0 to 52817\n",
            "Data columns (total 20 columns):\n",
            " #   Column               Non-Null Count  Dtype   \n",
            "---  ------               --------------  -----   \n",
            " 0   Patient_ID           52818 non-null  int64   \n",
            " 1   Diabetes_Type        52818 non-null  object  \n",
            " 2   Patient_Segment      52818 non-null  object  \n",
            " 3   NBRx_Product         52818 non-null  object  \n",
            " 4   HCP_Specialty_Group  52818 non-null  object  \n",
            " 5   HCP_State            52818 non-null  object  \n",
            " 6   Payer_Group          52818 non-null  object  \n",
            " 7   1M_OOP_Bucket        52818 non-null  object  \n",
            " 8   Active_Flag          52818 non-null  int64   \n",
            " 9   State                52818 non-null  object  \n",
            " 10  HDI                  52818 non-null  float64 \n",
            " 11  HDI_Rank             52818 non-null  category\n",
            " 12  Severity             52818 non-null  object  \n",
            " 13  Utilization          52818 non-null  object  \n",
            " 14  Affordability        52818 non-null  object  \n",
            " 15  Affordability_Score  52818 non-null  object  \n",
            " 16  Severity_Score       52818 non-null  object  \n",
            " 17  Utilization_Score    52818 non-null  object  \n",
            " 18  SAUT_Score           52818 non-null  int64   \n",
            " 19  Segment              52818 non-null  object  \n",
            "dtypes: category(1), float64(1), int64(3), object(15)\n",
            "memory usage: 7.7+ MB\n"
          ]
        }
      ]
    },
    {
      "cell_type": "code",
      "source": [
        "columns_to_keep = ['Patient_ID', 'Diabetes_Type','Patient_Segment', 'NBRx_Product', 'HCP_Specialty_Group', 'HDI', 'Payer_Group', '1M_OOP_Bucket' ]\n",
        "data = segment_attributes[columns_to_keep]\n",
        "from sklearn.preprocessing import LabelEncoder\n",
        "from sklearn.feature_selection import VarianceThreshold\n",
        "from sklearn.preprocessing import StandardScaler\n",
        "from sklearn.decomposition import PCA\n",
        "\n",
        "#Encode Categorical Attributes:\n",
        "\n",
        "s = (data.dtypes == 'object')\n",
        "object_cols = list(s[s].index) # Identify categorical columns\n",
        "LE = LabelEncoder() # Initialize LabelEncoder\n",
        "for i in object_cols:\n",
        "    data[i] = LE.fit_transform(data[i]) # Apply LabelEncoder to each categorical column\n",
        "\n",
        "\n",
        "# Drop constant and quasi-constant columns from the dataset to implement assumption of equal varaiance amongst clusters\n",
        "var_thr = VarianceThreshold(threshold=0.25)  # # Create a VarianceThreshold instance with a threshold of 0.25. This can be adjusted as needed.\n",
        "var_thr.fit(data) # Fit the VarianceThreshold to the data\n",
        "var_thr.get_support() # Get the support (boolean mask) for the selected features\n",
        "con_cols = [col for col in data.columns if col not in data.columns[var_thr.get_support()]] # Identify the constant and quasi-constant columns\n",
        "data = data.drop(con_cols, axis=1) # Dropped\n",
        "\n",
        "#Implement normalization assumption by scaling the features using Standard Scaler\n",
        "scaler = StandardScaler() # Initialize the StandardScaler\n",
        "\n",
        "scaler.fit(data)\n",
        "scaled_data = pd.DataFrame(scaler.transform(data), columns=data.columns)  # Fit the scaler to the data and transform the data\n",
        "\n",
        "#Dimensionality reduction using PCA to select optimial features\n",
        "pca = PCA(n_components=scaled_data.shape[1]) # Initialize PCA with the number of components equal to the number of scaled features\n",
        "pca.fit(scaled_data) # Fit PCA to the scaled data\n",
        "\n",
        "\n",
        "# Calculate the explained variance and cumulative explained variance\n",
        "explained_variance = pca.explained_variance_ratio_\n",
        "cumulative_explained_variance = np.cumsum(explained_variance)\n",
        "\n",
        "# Visualize the explained variance to select the number of components\n",
        "def pca_plot(cumulative_explained_variance, scaled_data):\n",
        "  # Plot the explained variance\n",
        "  plt.figure(figsize=(10, 6))\n",
        "  plt.plot(range(1, len(cumulative_explained_variance) + 1), cumulative_explained_variance, marker='o', linestyle='--')\n",
        "  plt.title('Cumulative Explained Variance vs. Number of Components')\n",
        "  plt.xlabel('Number of Components')\n",
        "  plt.ylabel('Cumulative Explained Variance')\n",
        "  plt.grid(True)\n",
        "  plt.show()\n",
        "\n",
        "pca_plot(cumulative_explained_variance, scaled_data)\n",
        "\n",
        "\n"
      ],
      "metadata": {
        "colab": {
          "base_uri": "https://localhost:8080/",
          "height": 562
        },
        "id": "0-kWLvnDwVRs",
        "outputId": "cfff62ee-088a-4c88-cf90-f898d528737f"
      },
      "execution_count": null,
      "outputs": [
        {
          "output_type": "display_data",
          "data": {
            "text/plain": [
              "<Figure size 1000x600 with 1 Axes>"
            ],
            "image/png": "[encoded data removed]"
          },
          "metadata": {}
        }
      ]
    },
    {
      "cell_type": "code",
      "source": [
        "# Select the number of components based on the desired explained variance threshold\n",
        "desired_explained_variance = 0.90\n",
        "num_components = np.argmax(cumulative_explained_variance >= desired_explained_variance) + 1\n",
        "\n",
        "# Output the selected number of components\n",
        "print(f\"Number of components to explain {desired_explained_variance:.2f} variance: {num_components}\")\n",
        "\n",
        "# Fit PCA with the selected number of components\n",
        "pca = PCA(n_components=num_components)\n",
        "PCA_ds = pd.DataFrame(pca.fit_transform(scaled_data), columns=[f\"PC{i+1}\" for i in range(num_components)])"
      ],
      "metadata": {
        "colab": {
          "base_uri": "https://localhost:8080/"
        },
        "id": "M53zeVHl3a37",
        "outputId": "9baf0ea8-d8ac-4935-c603-5692eafa0ade"
      },
      "execution_count": null,
      "outputs": [
        {
          "output_type": "stream",
          "name": "stdout",
          "text": [
            "Number of components to explain 0.90 variance: 5\n"
          ]
        }
      ]
    },
    {
      "cell_type": "code",
      "source": [
        "#Choosing the best number of clusters\n",
        "from yellowbrick.cluster import KElbowVisualizer\n",
        "from sklearn.cluster import KMeans\n",
        "\n",
        "# Initialize the KElbowVisualizer with the KMeans estimator and a range of K values. Lets start with 10\n",
        "Elbow_M = KElbowVisualizer(KMeans(), k=10)\n",
        "\n",
        "# Fit the visualizer to the PCA-transformed data\n",
        "Elbow_M.fit(PCA_ds)\n",
        "\n",
        "# Display the Elbow Method plot\n",
        "Elbow_M.show()"
      ],
      "metadata": {
        "colab": {
          "base_uri": "https://localhost:8080/",
          "height": 541
        },
        "id": "Y5KBG8P331qb",
        "outputId": "ed38abd0-9710-4c72-aa37-479bd7e50be8"
      },
      "execution_count": null,
      "outputs": [
        {
          "output_type": "display_data",
          "data": {
            "text/plain": [
              "<Figure size 800x550 with 2 Axes>"
            ],
            "image/png": "[encoded data removed]"
          },
          "metadata": {}
        },
        {
          "output_type": "execute_result",
          "data": {
            "text/plain": [
              "<Axes: title={'center': 'Distortion Score Elbow for KMeans Clustering'}, xlabel='k', ylabel='distortion score'>"
            ]
          },
          "metadata": {},
          "execution_count": 109
        }
      ]
    },
    {
      "cell_type": "code",
      "source": [
        "# Specify the number of clusters and other parameters\n",
        "n_clusters = 5\n",
        "random_state = 42\n",
        "max_iter = 1000\n",
        "algorithm = 'elkan'\n",
        "\n",
        "# Create a KMeans instance\n",
        "kmeans_5 = KMeans(n_clusters=n_clusters,\n",
        "                max_iter=max_iter,\n",
        "                random_state=random_state,\n",
        "                algorithm=algorithm)\n",
        "\n",
        "# Fit the KMeans model to your data\n",
        "yhat_KM_k5 = kmeans_5.fit_predict(PCA_ds)\n",
        "\n",
        "# Assign cluster labels to your DataFrame\n",
        "PCA_ds_k5 = PCA_ds.copy()\n",
        "data_k5 = data.copy()\n",
        "PCA_ds_k5[\"Cluster\"] = yhat_KM_k5\n",
        "data_k5[\"Cluster\"] = yhat_KM_k5"
      ],
      "metadata": {
        "id": "kyr9_35N6ZMC"
      },
      "execution_count": null,
      "outputs": []
    },
    {
      "cell_type": "code",
      "source": [
        "#Lets further investigate this with silhouette score. Lower score indicates a better fit.\n",
        "from sklearn.metrics import silhouette_score\n",
        "import matplotlib.pyplot as plt\n",
        "\n",
        "# Check silhouette score for a range of K values between 2 and 10:\n",
        "k_values = range(2, 10)\n",
        "silhouette_scores = []\n",
        "\n",
        "best_k = None\n",
        "best_silhouette_score = -1\n",
        "\n",
        "# Iterate through different K values\n",
        "for k in k_values:\n",
        "    km = KMeans(n_clusters=k, init='k-means++', n_init=10, max_iter=100, random_state=42)\n",
        "    km.fit(PCA_ds)\n",
        "\n",
        "    # Calculate the average silhouette score\n",
        "    silhouette_avg = silhouette_score(PCA_ds, km.labels_)\n",
        "    silhouette_scores.append(silhouette_avg)\n",
        "\n",
        "    # Update the best K value if a higher silhouette score is found\n",
        "    if silhouette_avg > best_silhouette_score:\n",
        "        best_k = k\n",
        "        best_silhouette_score = silhouette_avg\n",
        "\n",
        "# Output the best K value and corresponding Silhouette Score\n",
        "print(\"Best K value:\", best_k)\n",
        "print(\"Best Silhouette Score:\", best_silhouette_score)"
      ],
      "metadata": {
        "colab": {
          "base_uri": "https://localhost:8080/"
        },
        "id": "zOJ8x84461X8",
        "outputId": "43995091-54aa-4961-b21a-3fd66400509b"
      },
      "execution_count": null,
      "outputs": [
        {
          "output_type": "stream",
          "name": "stdout",
          "text": [
            "Best K value: 7\n",
            "Best Silhouette Score: 0.32953152916892925\n"
          ]
        }
      ]
    },
    {
      "cell_type": "code",
      "source": [
        "import matplotlib.pyplot as plt\n",
        "# Create a plot to visualize Silhouette Scores\n",
        "plt.plot(k_values, silhouette_scores)\n",
        "plt.xlabel(\"Number of Clusters (K)\")\n",
        "plt.ylabel(\"Silhouette Score\")\n",
        "plt.title(\"Silhouette Score vs. Number of Clusters\")\n",
        "plt.show()"
      ],
      "metadata": {
        "colab": {
          "base_uri": "https://localhost:8080/",
          "height": 524
        },
        "id": "ZojUn6FA7Ce5",
        "outputId": "01f93218-680b-407f-e35e-b414d810e0f0"
      },
      "execution_count": null,
      "outputs": [
        {
          "output_type": "display_data",
          "data": {
            "text/plain": [
              "<Figure size 800x550 with 1 Axes>"
            ],
            "image/png": "[encoded data removed]"
          },
          "metadata": {}
        }
      ]
    },
    {
      "cell_type": "code",
      "source": [
        "#Looks like we can use any of 6, 7, or 8 number of clusters as their scores are very close. We'll further investigate the Sum of Square errors to pick the best.\n",
        "\n",
        "#Lets compare the result for others:\n",
        "\n",
        "# Specify the number of clusters and other parameters increased on 6\n",
        "n_clusters = 6\n",
        "random_state = 42\n",
        "max_iter = 1000\n",
        "algorithm = 'elkan'\n",
        "\n",
        "# Create a KMeans instance\n",
        "kmeans_6 = KMeans(n_clusters=n_clusters,\n",
        "                max_iter=max_iter,\n",
        "                random_state=random_state,\n",
        "                algorithm=algorithm)\n",
        "\n",
        "# Fit the KMeans model to your data\n",
        "yhat_KM_k6 = kmeans_6.fit_predict(PCA_ds)\n",
        "\n",
        "# Assign cluster labels to your DataFrame\n",
        "PCA_ds_k6 = PCA_ds.copy()\n",
        "data_k6 = data.copy()\n",
        "PCA_ds_k6[\"Cluster\"] = yhat_KM_k6\n",
        "data_k6[\"Cluster\"] = yhat_KM_k6"
      ],
      "metadata": {
        "id": "GBA-Nqv37J4-"
      },
      "execution_count": null,
      "outputs": []
    },
    {
      "cell_type": "code",
      "source": [
        "# Specify the number of clusters and other parameters increased on 7\n",
        "n_clusters = 7\n",
        "random_state = 42\n",
        "max_iter = 1000\n",
        "algorithm = 'elkan'\n",
        "\n",
        "# Create a KMeans instance\n",
        "kmeans_7 = KMeans(n_clusters=n_clusters,\n",
        "                max_iter=max_iter,\n",
        "                random_state=random_state,\n",
        "                algorithm=algorithm)\n",
        "\n",
        "# Fit the KMeans model to your data\n",
        "yhat_KM_k7 = kmeans_7.fit_predict(PCA_ds)\n",
        "\n",
        "# Assign cluster labels to your DataFrame\n",
        "PCA_ds_k7 = PCA_ds.copy()\n",
        "data_k7 = data.copy()\n",
        "PCA_ds_k7[\"Cluster\"] = yhat_KM_k7\n",
        "data_k7[\"Cluster\"] = yhat_KM_k7"
      ],
      "metadata": {
        "id": "okAss1eLHb9J"
      },
      "execution_count": null,
      "outputs": []
    },
    {
      "cell_type": "code",
      "source": [
        "# Specify the number of clusters and other parameters increased on 7\n",
        "n_clusters = 8\n",
        "random_state = 42\n",
        "max_iter = 1000\n",
        "algorithm = 'elkan'\n",
        "\n",
        "# Create a KMeans instance\n",
        "kmeans_8 = KMeans(n_clusters=n_clusters,\n",
        "                max_iter=max_iter,\n",
        "                random_state=random_state,\n",
        "                algorithm=algorithm)\n",
        "\n",
        "# Fit the KMeans model to your data\n",
        "yhat_KM_k8 = kmeans_8.fit_predict(PCA_ds)\n",
        "\n",
        "# Assign cluster labels to your DataFrame\n",
        "PCA_ds_k8 = PCA_ds.copy()\n",
        "data_k8 = data.copy()\n",
        "PCA_ds_k8[\"Cluster\"] = yhat_KM_k8\n",
        "data_k8[\"Cluster\"] = yhat_KM_k8"
      ],
      "metadata": {
        "id": "zVCqtjPGF0DZ"
      },
      "execution_count": null,
      "outputs": []
    },
    {
      "cell_type": "code",
      "source": [
        " #Sum of Squared Errors (SSE):\n",
        "sse_k5 = kmeans_5.inertia_\n",
        "sse_k6 = kmeans_6.inertia_\n",
        "sse_k7 = kmeans_7.inertia_\n",
        "sse_k8 = kmeans_8.inertia_\n",
        "print(f\"When K=5 SSE = {sse_k5}\\nWhen K=6 SSE = {sse_k6} \\nWhen K=7 SSE = {sse_k7} \\nWhen K=8 SSE = {sse_k8}\")"
      ],
      "metadata": {
        "colab": {
          "base_uri": "https://localhost:8080/"
        },
        "id": "79pjZzcn7SfT",
        "outputId": "732440ec-816e-41f2-de78-79deca6839ff"
      },
      "execution_count": null,
      "outputs": [
        {
          "output_type": "stream",
          "name": "stdout",
          "text": [
            "When K=5 SSE = 127600.89594176823\n",
            "When K=6 SSE = 113676.74206200667 \n",
            "When K=7 SSE = 104159.65937882783 \n",
            "When K=8 SSE = 97531.8159942639\n"
          ]
        }
      ]
    },
    {
      "cell_type": "code",
      "source": [
        "from sklearn.metrics import silhouette_score\n",
        "silhouette_k5 = silhouette_score(PCA_ds, yhat_KM_k5)\n",
        "silhouette_k6 = silhouette_score(PCA_ds, yhat_KM_k6)\n",
        "silhouette_k7 = silhouette_score(PCA_ds, yhat_KM_k7)\n",
        "silhouette_k8 = silhouette_score(PCA_ds, yhat_KM_k8)\n",
        "print(f\"When K=5 silhouette_score = {silhouette_k5}\\nWhen K=6 silhouette_score = {silhouette_k6}\\nWhen K=7 silhouette_score = {silhouette_k7} \\nWhen K=8 silhouette_score = {silhouette_k8}\")"
      ],
      "metadata": {
        "colab": {
          "base_uri": "https://localhost:8080/"
        },
        "id": "Z2rwb_2X7pi2",
        "outputId": "68c4babd-7bd2-4400-9db7-88d24e751a99"
      },
      "execution_count": null,
      "outputs": [
        {
          "output_type": "stream",
          "name": "stdout",
          "text": [
            "When K=5 silhouette_score = 0.2930713310213909\n",
            "When K=6 silhouette_score = 0.32092005869846135\n",
            "When K=7 silhouette_score = 0.32953152916892925 \n",
            "When K=8 silhouette_score = 0.3044827504721439\n"
          ]
        }
      ]
    },
    {
      "cell_type": "code",
      "source": [
        "#K= 8 clusters seem our best value based on the SSE=97531.815 abd Silhouette_Score = 0.304\n",
        "\n",
        "#Put cluster back to data table\n",
        "data['Cluster'] = PCA_ds_k8['Cluster']"
      ],
      "metadata": {
        "id": "VZPoohOSC4Pb"
      },
      "execution_count": null,
      "outputs": []
    },
    {
      "cell_type": "code",
      "source": [
        "# Merge 'Segment' from segment_attributes to data based on 'Patient_ID'\n",
        "data = data.merge(segment_attributes[['Patient_ID', 'Segment']], on='Patient_ID', how='left')\n"
      ],
      "metadata": {
        "id": "L7uL2o91Dkgw"
      },
      "execution_count": null,
      "outputs": []
    },
    {
      "cell_type": "code",
      "source": [
        "#data proactive managed as the sample is too small and will skew the clusters\n",
        "#data = data[data['Segment'] != 'Champions']\n"
      ],
      "metadata": {
        "id": "subbhYsoJJM7"
      },
      "execution_count": null,
      "outputs": []
    },
    {
      "cell_type": "code",
      "source": [
        "#count occurrence of the cluster category by segment in data\n",
        "\n",
        "# Group by 'Segment' and 'Cluster' and count occurrences\n",
        "cluster_counts_by_segment = data.groupby(['Segment', 'Cluster'])['Patient_ID'].count().unstack(fill_value=0)\n",
        "\n",
        "# Display the resulting table\n",
        "print(cluster_counts_by_segment)\n"
      ],
      "metadata": {
        "colab": {
          "base_uri": "https://localhost:8080/"
        },
        "id": "TYqqyBZ_EExI",
        "outputId": "c1b5f7e7-e33e-4d1e-d88b-50d667256ad2",
        "collapsed": true
      },
      "execution_count": null,
      "outputs": [
        {
          "output_type": "stream",
          "name": "stdout",
          "text": [
            "Cluster                  0     1     2     3     4     5     6     7\n",
            "Segment                                                             \n",
            "At_Risk                 60  5050  3537  1717   734   691  4950   215\n",
            "Champions              123   146     0     7   985   134     1     0\n",
            "Hibernating              0   653   287   781   396    67   359   168\n",
            "Loyal_users           7227  3675  4237   572   125  1290  2130   344\n",
            "Needing_attention        1    61   306    29    14     8    15    45\n",
            "Potential_loyalist       9   371   315     3  2139   568    10  2409\n",
            "Promising             1168   260   302    20   226   374    74  1516\n",
            "Users_We_Cannot_Lose   299     0    73     0     9   138     4  1391\n"
          ]
        }
      ]
    },
    {
      "cell_type": "code",
      "source": [
        "#  in cluster_count_by_segments identify the max figures for each segment and replace the max figure as x and others  as -\n",
        "\n",
        "# Create a new DataFrame to store the modified counts\n",
        "cluster_counts_modified = cluster_counts_by_segment.copy()\n",
        "\n",
        "# Iterate through each segment\n",
        "for segment in cluster_counts_by_segment.index:\n",
        "  # Find the maximum value for the current segment\n",
        "  max_value = cluster_counts_by_segment.loc[segment].max()\n",
        "\n",
        "  # Replace all values in the row with '-' except for the maximum value\n",
        "  cluster_counts_modified.loc[segment] = ['-' if val != max_value else 'x' for val in cluster_counts_by_segment.loc[segment]]\n",
        "\n",
        "# Display the modified DataFrame\n",
        "print(cluster_counts_modified)\n"
      ],
      "metadata": {
        "colab": {
          "base_uri": "https://localhost:8080/"
        },
        "id": "_8WOKzgSLs6w",
        "outputId": "ce30f0ec-a57e-4f3a-913d-183af2ee806c"
      },
      "execution_count": null,
      "outputs": [
        {
          "output_type": "stream",
          "name": "stdout",
          "text": [
            "Cluster               0  1  2  3  4  5  6  7\n",
            "Segment                                     \n",
            "At_Risk               -  x  -  -  -  -  -  -\n",
            "Champions             -  -  -  -  x  -  -  -\n",
            "Hibernating           -  -  -  x  -  -  -  -\n",
            "Loyal_users           x  -  -  -  -  -  -  -\n",
            "Needing_attention     -  -  x  -  -  -  -  -\n",
            "Potential_loyalist    -  -  -  -  -  -  -  x\n",
            "Promising             -  -  -  -  -  -  -  x\n",
            "Users_We_Cannot_Lose  -  -  -  -  -  -  -  x\n"
          ]
        }
      ]
    },
    {
      "cell_type": "markdown",
      "source": [
        "K-means clustering does a good job of validating our segmentation analysis as the maximum value counts from each segment can be found in corresponding K-Means clusters.\n",
        "\n",
        "From the matrix above plots the intercection of our segments with corresponding clusters in K-means:\n",
        "\n",
        "We can see that:\n",
        "\n",
        "Potential_Loyalists, Promising and We-cannot_Lose are in the same cluster as their common theme is good utlization despite severiy of their disease.\n",
        "\n",
        "\n",
        "Also:\n",
        "\n",
        "The maximum value for \"At_Risk\" segment is in cluster 1\n",
        "The maximum value for \"Champions\" segment is in cluster 4\n",
        "The maximum value for \"Needing_Attention\" segment is in cluster 2,\n",
        "and so on."
      ],
      "metadata": {
        "id": "_TNhhvg5gMIT"
      }
    }
  ]
}